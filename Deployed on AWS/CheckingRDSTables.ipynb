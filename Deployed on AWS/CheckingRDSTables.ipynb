{
 "cells": [
  {
   "cell_type": "code",
   "execution_count": 25,
   "id": "8c26da3b-e7fb-4c96-ba85-cb6d73d4547d",
   "metadata": {},
   "outputs": [],
   "source": [
    "# Keeping db passwords info in another file\n",
    "%run ./db_variables.ipynb"
   ]
  },
  {
   "cell_type": "code",
   "execution_count": 26,
   "id": "1a130826-f494-4284-aeca-91d399ab15e5",
   "metadata": {},
   "outputs": [],
   "source": [
    "import boto3\n",
    "import json\n",
    "import psycopg2\n",
    "import os"
   ]
  },
  {
   "cell_type": "code",
   "execution_count": 28,
   "id": "789aa1e3-d5ba-4eb2-91ca-f9e25fb406ec",
   "metadata": {},
   "outputs": [
    {
     "name": "stdout",
     "output_type": "stream",
     "text": [
      "{'ResponseMetadata': {'RequestId': '9b9abb5d-1bee-44fc-a948-1daf2d7c4144', 'HTTPStatusCode': 200, 'HTTPHeaders': {'date': 'Tue, 18 Feb 2025 04:41:28 GMT', 'content-type': 'application/json', 'content-length': '196', 'connection': 'keep-alive', 'x-amzn-requestid': '9b9abb5d-1bee-44fc-a948-1daf2d7c4144', 'x-amzn-remapped-content-length': '0', 'x-amz-executed-version': '$LATEST', 'x-amzn-trace-id': 'Root=1-67b40f74-4353739733cfa8712bab9cae;Parent=34f8cff9c3533c08;Sampled=0;Lineage=1:b4c35d1e:0'}, 'RetryAttempts': 0}, 'StatusCode': 200, 'ExecutedVersion': '$LATEST', 'Payload': <botocore.response.StreamingBody object at 0x0000024F7E1A4B50>}\n"
     ]
    }
   ],
   "source": [
    "lambda_client = boto3.client(\"lambda\")\n",
    "\n",
    "event = {\n",
    "    \"key\" : \"Airfare1.jpg\",\n",
    "    \"user_id\" : \"123456\"\n",
    "}\n",
    "\n",
    "response = lambda_client.invoke(\n",
    "    FunctionName = function_name,\n",
    "    InvocationType='RequestResponse',\n",
    "    Payload = json.dumps(event)\n",
    ")\n",
    "\n",
    "print(response)"
   ]
  },
  {
   "cell_type": "code",
   "execution_count": 6,
   "id": "dd6ac026-49bf-4a19-a447-d64e939dd800",
   "metadata": {},
   "outputs": [],
   "source": [
    "\n",
    "def get_receipt_data(db_host, db_port, db_user, db_password, db_name):\n",
    "    # Database connection details\n",
    "\n",
    "    query = \"SELECT * FROM receipt_data;\"\n",
    "    connection = None\n",
    "    try:\n",
    "        connection = psycopg2.connect(\n",
    "            host=db_host,\n",
    "            port=db_port,\n",
    "            user=db_user,\n",
    "            password=db_password,\n",
    "            database=db_name\n",
    "        )\n",
    "        cursor = connection.cursor()\n",
    "\n",
    "        cursor.execute(query)\n",
    "        results = cursor.fetchall()\n",
    "\n",
    "        return {\"statusCode\": 200, \"data\": results}\n",
    "\n",
    "    except Exception as e:\n",
    "        return {\"statusCode\": 500, \"error\": str(e)}\n",
    "\n",
    "    finally:\n",
    "        if connection is not None:\n",
    "            cursor.close()\n",
    "            connection.close()\n"
   ]
  },
  {
   "cell_type": "code",
   "execution_count": 7,
   "id": "c17ef1d2-379b-4a14-9319-9ca3f22b7705",
   "metadata": {},
   "outputs": [],
   "source": [
    "\n",
    "def get_receipt_pred(db_host, db_port, db_user, db_password, db_name):\n",
    "\n",
    "\n",
    "    query = \"SELECT * FROM receipt_pred;\"\n",
    "    connection = None\n",
    "    try:\n",
    "        connection = psycopg2.connect(\n",
    "            host=db_host,\n",
    "            port=db_port,\n",
    "            user=db_user,\n",
    "            password=db_password,\n",
    "            database=db_name\n",
    "        )\n",
    "        cursor = connection.cursor()\n",
    "\n",
    "        cursor.execute(query)\n",
    "        results = cursor.fetchall()\n",
    "\n",
    "        return {\"statusCode\": 200, \"data\": results}\n",
    "\n",
    "    except Exception as e:\n",
    "        return {\"statusCode\": 500, \"error\": str(e)}\n",
    "\n",
    "    finally:\n",
    "        if connection is not None:\n",
    "            cursor.close()\n",
    "            connection.close()\n"
   ]
  },
  {
   "cell_type": "code",
   "execution_count": 8,
   "id": "206db56b-a153-4545-b0ea-2f5d2f8f2444",
   "metadata": {},
   "outputs": [
    {
     "data": {
      "text/plain": [
       "{'statusCode': 200,\n",
       " 'data': [('Meals1.jpg',\n",
       "   '123456',\n",
       "   Decimal('11.49'),\n",
       "   datetime.date(2024, 10, 30),\n",
       "   'Meals',\n",
       "   datetime.datetime(2025, 2, 17, 0, 35, 32, 4965)),\n",
       "  ('Meals2.jpg',\n",
       "   '123456',\n",
       "   Decimal('37.37'),\n",
       "   datetime.date(2024, 12, 16),\n",
       "   'Meals',\n",
       "   datetime.datetime(2025, 2, 17, 0, 39, 37, 326005)),\n",
       "  ('Groceries4.jpg',\n",
       "   '123456',\n",
       "   Decimal('22.74'),\n",
       "   datetime.date(2024, 10, 16),\n",
       "   'Meals',\n",
       "   datetime.datetime(2025, 2, 17, 1, 23, 48, 772951)),\n",
       "  ('Meals18.jpg',\n",
       "   '123456',\n",
       "   Decimal('0.00'),\n",
       "   datetime.date(2024, 12, 17),\n",
       "   'Meals',\n",
       "   datetime.datetime(2025, 2, 17, 5, 0, 29, 524904))]}"
      ]
     },
     "execution_count": 8,
     "metadata": {},
     "output_type": "execute_result"
    }
   ],
   "source": [
    "get_receipt_pred(db_host, db_port, db_user, db_password, db_name)"
   ]
  },
  {
   "cell_type": "code",
   "execution_count": 17,
   "id": "33a93367-5939-4c69-882f-f69f6c99f7f4",
   "metadata": {},
   "outputs": [
    {
     "data": {
      "text/plain": [
       "{'statusCode': 200,\n",
       " 'data': [('test2',\n",
       "   'id_test',\n",
       "   Decimal('123.00'),\n",
       "   datetime.date(2025, 2, 6),\n",
       "   'Meals',\n",
       "   None,\n",
       "   None,\n",
       "   datetime.datetime(2025, 2, 17, 0, 24, 16, 774703)),\n",
       "  ('Meals1.jpg',\n",
       "   '123456',\n",
       "   Decimal('11.49'),\n",
       "   datetime.date(2024, 10, 30),\n",
       "   'Meals',\n",
       "   None,\n",
       "   None,\n",
       "   datetime.datetime(2025, 2, 17, 0, 37, 36, 89240)),\n",
       "  ('Meals2.jpg',\n",
       "   '123456',\n",
       "   Decimal('37.37'),\n",
       "   datetime.date(2024, 12, 16),\n",
       "   'Meals',\n",
       "   None,\n",
       "   None,\n",
       "   datetime.datetime(2025, 2, 17, 0, 39, 37, 368304)),\n",
       "  ('Groceries4.jpg',\n",
       "   '123456',\n",
       "   Decimal('22.74'),\n",
       "   datetime.date(2024, 10, 16),\n",
       "   'Meals',\n",
       "   None,\n",
       "   None,\n",
       "   datetime.datetime(2025, 2, 17, 1, 23, 48, 697207))]}"
      ]
     },
     "execution_count": 17,
     "metadata": {},
     "output_type": "execute_result"
    }
   ],
   "source": [
    "get_receipt_data(db_host, db_port, db_user, db_password, db_name)"
   ]
  },
  {
   "cell_type": "code",
   "execution_count": null,
   "id": "9a27a197-e037-4b6b-9690-40540b4b91b3",
   "metadata": {},
   "outputs": [],
   "source": []
  }
 ],
 "metadata": {
  "kernelspec": {
   "display_name": "Python 3 (ipykernel)",
   "language": "python",
   "name": "python3"
  },
  "language_info": {
   "codemirror_mode": {
    "name": "ipython",
    "version": 3
   },
   "file_extension": ".py",
   "mimetype": "text/x-python",
   "name": "python",
   "nbconvert_exporter": "python",
   "pygments_lexer": "ipython3",
   "version": "3.12.9"
  }
 },
 "nbformat": 4,
 "nbformat_minor": 5
}
