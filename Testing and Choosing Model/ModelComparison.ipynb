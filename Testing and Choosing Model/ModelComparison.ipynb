{
 "cells": [
  {
   "cell_type": "markdown",
   "id": "da27c8cf-802c-4768-bac7-d55456892c8c",
   "metadata": {},
   "source": [
    "##### Boring import stuff"
   ]
  },
  {
   "cell_type": "code",
   "execution_count": 1,
   "id": "7b0efc8a-2c50-41b4-8802-ae95ec728ef6",
   "metadata": {},
   "outputs": [],
   "source": [
    "import os\n",
    "import json\n",
    "from datetime import datetime\n",
    "import numpy as np\n",
    "import pandas as pd\n",
    "import re\n",
    "import time\n",
    "from sklearn.metrics import confusion_matrix, ConfusionMatrixDisplay, classification_report\n",
    "import matplotlib.pyplot as plt\n",
    "import seaborn as sns"
   ]
  },
  {
   "cell_type": "markdown",
   "id": "291deec0-efa1-4508-a867-48089346d777",
   "metadata": {},
   "source": [
    "# Summary"
   ]
  },
  {
   "cell_type": "markdown",
   "id": "a3334bf7-bc4c-4c1b-b003-f438c5218cf2",
   "metadata": {},
   "source": [
    "This notebook checks the accuracy of receipt categorization using three foundation models on AWS Bedrock: Llama 3.1 8B Instruct, Amazon Titan Text Express, and Llama 3.1 70B Instruct. The predictions from each model are compared against actual values for the receipt category, date, and total amount. It also checks predictions of date and amount, but those will not change based on model. The workflow starts by importing and cleaning the data, replacing NaN values in predictions with \"Other\" for consistency. Accuracies are calculated for each model, and confusion matrices are generated to visualize the results. The tested categories are Meals, Supplies, Safety, Travel, Lodging, and Other.\n",
    "\n",
    "Each model has different strengths:\n",
    "Llama 3.1 8B Instruct: Tends to over-predict Meals, achieving 73.74% category accuracy. Also seems to predict Lodging well.\n",
    "Amazon Titan Text Express: Shows similar behavior, with a slightly lower category accuracy of 69.70%. Better than Llama 3B at Travel and Supplies, but worse on Lodging.\n",
    "Llama 3.1 70B Instruct: Performs best, with 88.89% category accuracy and strong precision across most categories.\n",
    "All models perform well on Meals but struggle on other categories, likely due to receipt quality or variability. These results highlight areas where the models excel and where improvements might be needed, likely through fine-tuning the model with receipts."
   ]
  },
  {
   "cell_type": "markdown",
   "id": "5d85b445-2e1a-4331-b607-5238f00645bd",
   "metadata": {},
   "source": [
    "# Body"
   ]
  },
  {
   "cell_type": "code",
   "execution_count": 2,
   "id": "dc1ef20a-51cf-48e1-a298-528e9de1477b",
   "metadata": {},
   "outputs": [
    {
     "data": {
      "text/plain": [
       "['Lodging', 'Meals', 'Other', 'Safety', 'Supplies', 'Travel']"
      ]
     },
     "execution_count": 2,
     "metadata": {},
     "output_type": "execute_result"
    }
   ],
   "source": [
    "classes =  ['Meals', 'Supplies', 'Safety', 'Travel', 'Lodging', 'Other']\n",
    "classes.sort()\n",
    "classes"
   ]
  },
  {
   "cell_type": "markdown",
   "id": "57602016-3fad-4b6c-acd3-d58de8724404",
   "metadata": {},
   "source": [
    "### Functions to calculate accuracies and build confusion matrices"
   ]
  },
  {
   "cell_type": "code",
   "execution_count": 3,
   "id": "1fc3c375-d46f-4ca2-aeeb-cd9bfcb18643",
   "metadata": {},
   "outputs": [],
   "source": [
    "def calculate_accuracies(df):\n",
    "    category_correct = 0\n",
    "    date_correct = 0\n",
    "    amount_correct = 0\n",
    "    category_miss = []\n",
    "    date_miss = []\n",
    "    amount_miss = []\n",
    "    total = len(df)\n",
    "    for i in range(total):\n",
    "        if df.loc[i, 'category'] == df.loc[i, 'predicted_category']:\n",
    "            category_correct+=1\n",
    "        else:\n",
    "            category_miss.append(i)\n",
    "        \n",
    "        if df.loc[i, 'date'] == df.loc[i, 'extracted_date']:\n",
    "            date_correct+=1\n",
    "        else:\n",
    "            date_miss.append(i)\n",
    "\n",
    "        if df.loc[i, 'total'] == df.loc[i, 'extracted_total']:\n",
    "            amount_correct+=1\n",
    "        else:\n",
    "            amount_miss.append(i)\n",
    "\n",
    "    print(f'Total Receipts Analyzed: {total}\\nAccuracies:\\n\\tAmount: {(amount_correct/total)*100:.2f}%\\n\\tDate: {(date_correct/total)*100:.2f}%\\n\\tCategory: {(category_correct/total)*100:.2f}%')\n",
    "    print(f'Misses:\\n\\tAmount: {amount_miss}\\n\\tDate: {date_miss}\\n\\tCategory: {category_miss}')"
   ]
  },
  {
   "cell_type": "code",
   "execution_count": 4,
   "id": "602084b8-30eb-43a4-b08e-2bd5c15cdb49",
   "metadata": {},
   "outputs": [],
   "source": [
    "def build_confusion_matrix(df,color = plt.cm.Blues ):\n",
    "    y_true = df['category']\n",
    "    y_pred = df['predicted_category']\n",
    "\n",
    "    classes = list(set(list(y_true.unique()) + list(y_pred.unique())))\n",
    "    classes.sort()\n",
    "    cm = confusion_matrix(y_true,y_pred)\n",
    "    \n",
    "    sns.heatmap(cm, annot=True,fmt='g', xticklabels=classes, yticklabels= classes, cmap = color)\n",
    "    plt.ylabel('Actual', fontsize=13)\n",
    "    plt.title('Confusion Matrix', fontsize=17, pad=20)\n",
    "    plt.gca().xaxis.set_label_position('top') \n",
    "    plt.gca().xaxis.tick_top()\n",
    "    plt.gca().figure.subplots_adjust(bottom=0.2)\n",
    "    plt.gca().figure.text(0.5, 0.15, 'Prediction', ha='center', fontsize=13)\n",
    "    plt.show()\n",
    "    print(classification_report(y_pred=y_pred, y_true =y_true, labels=classes, zero_division=0))"
   ]
  },
  {
   "cell_type": "markdown",
   "id": "6651c921-1d93-4b9a-9a88-2445156ff5e4",
   "metadata": {},
   "source": [
    "### Llama 3.1 8B Instruct"
   ]
  },
  {
   "cell_type": "markdown",
   "id": "993bd4fd-638d-4cc5-a1ff-4043ffc5d893",
   "metadata": {},
   "source": [
    "**Top P** = .5 <br>\n",
    "**Temperature** = .2 <br>\n",
    "\"Use only top 50% most likely words, weight the more likely words when choosing\""
   ]
  },
  {
   "cell_type": "code",
   "execution_count": 5,
   "id": "6ad74dba-c798-44b5-ace2-feeeb5e06381",
   "metadata": {},
   "outputs": [
    {
     "data": {
      "text/html": [
       "<div>\n",
       "<style scoped>\n",
       "    .dataframe tbody tr th:only-of-type {\n",
       "        vertical-align: middle;\n",
       "    }\n",
       "\n",
       "    .dataframe tbody tr th {\n",
       "        vertical-align: top;\n",
       "    }\n",
       "\n",
       "    .dataframe thead th {\n",
       "        text-align: right;\n",
       "    }\n",
       "</style>\n",
       "<table border=\"1\" class=\"dataframe\">\n",
       "  <thead>\n",
       "    <tr style=\"text-align: right;\">\n",
       "      <th></th>\n",
       "      <th>receipt_extract</th>\n",
       "      <th>object_name</th>\n",
       "      <th>date</th>\n",
       "      <th>subtotal</th>\n",
       "      <th>total</th>\n",
       "      <th>category</th>\n",
       "      <th>extracted_date</th>\n",
       "      <th>extracted_total</th>\n",
       "      <th>predicted_category</th>\n",
       "    </tr>\n",
       "  </thead>\n",
       "  <tbody>\n",
       "    <tr>\n",
       "      <th>0</th>\n",
       "      <td>{\"NAME\": \"DELTA\", \"INVOICE_RECEIPT_DATE\": \"22S...</td>\n",
       "      <td>Airfare1.jpg</td>\n",
       "      <td>09/22/2024</td>\n",
       "      <td>45.00</td>\n",
       "      <td>45.00</td>\n",
       "      <td>Travel</td>\n",
       "      <td>09/22/2024</td>\n",
       "      <td>45.00</td>\n",
       "      <td>NaN</td>\n",
       "    </tr>\n",
       "    <tr>\n",
       "      <th>1</th>\n",
       "      <td>{\"NAME\": \"Alaska Airlines Alaska Fairbanks ANC...</td>\n",
       "      <td>Airfare2.jpg</td>\n",
       "      <td>11/13/2024</td>\n",
       "      <td>545.11</td>\n",
       "      <td>614.69</td>\n",
       "      <td>Travel</td>\n",
       "      <td>11/13/2024</td>\n",
       "      <td>614.69</td>\n",
       "      <td>Meals</td>\n",
       "    </tr>\n",
       "    <tr>\n",
       "      <th>2</th>\n",
       "      <td>{\"NAME\": \"National.\", \"items\": {\"item0\": \"TIME...</td>\n",
       "      <td>CarRental1.jpg</td>\n",
       "      <td>12/15/2024</td>\n",
       "      <td>355.00</td>\n",
       "      <td>505.63</td>\n",
       "      <td>Travel</td>\n",
       "      <td>12/15/2024</td>\n",
       "      <td>505.63</td>\n",
       "      <td>Other</td>\n",
       "    </tr>\n",
       "    <tr>\n",
       "      <th>3</th>\n",
       "      <td>{\"AMOUNT_PAID\": \"$0.00\", \"items\": {\"item0\": \"C...</td>\n",
       "      <td>CarRental2.jpg</td>\n",
       "      <td>01/01/1900</td>\n",
       "      <td>173.14</td>\n",
       "      <td>173.14</td>\n",
       "      <td>Travel</td>\n",
       "      <td>01/01/1899</td>\n",
       "      <td>173.14</td>\n",
       "      <td>Travel</td>\n",
       "    </tr>\n",
       "    <tr>\n",
       "      <th>4</th>\n",
       "      <td>{\"ADDRESS\": \"BOZEMAN INTL ARPT\\n850 GALLATIN F...</td>\n",
       "      <td>CarRental3.jpg</td>\n",
       "      <td>12/20/2024</td>\n",
       "      <td>272.83</td>\n",
       "      <td>319.18</td>\n",
       "      <td>Travel</td>\n",
       "      <td>01/01/1899</td>\n",
       "      <td>319.18</td>\n",
       "      <td>Travel</td>\n",
       "    </tr>\n",
       "  </tbody>\n",
       "</table>\n",
       "</div>"
      ],
      "text/plain": [
       "                                     receipt_extract     object_name  \\\n",
       "0  {\"NAME\": \"DELTA\", \"INVOICE_RECEIPT_DATE\": \"22S...    Airfare1.jpg   \n",
       "1  {\"NAME\": \"Alaska Airlines Alaska Fairbanks ANC...    Airfare2.jpg   \n",
       "2  {\"NAME\": \"National.\", \"items\": {\"item0\": \"TIME...  CarRental1.jpg   \n",
       "3  {\"AMOUNT_PAID\": \"$0.00\", \"items\": {\"item0\": \"C...  CarRental2.jpg   \n",
       "4  {\"ADDRESS\": \"BOZEMAN INTL ARPT\\n850 GALLATIN F...  CarRental3.jpg   \n",
       "\n",
       "         date  subtotal   total category extracted_date  extracted_total  \\\n",
       "0  09/22/2024     45.00   45.00   Travel     09/22/2024            45.00   \n",
       "1  11/13/2024    545.11  614.69   Travel     11/13/2024           614.69   \n",
       "2  12/15/2024    355.00  505.63   Travel     12/15/2024           505.63   \n",
       "3  01/01/1900    173.14  173.14   Travel     01/01/1899           173.14   \n",
       "4  12/20/2024    272.83  319.18   Travel     01/01/1899           319.18   \n",
       "\n",
       "  predicted_category  \n",
       "0                NaN  \n",
       "1              Meals  \n",
       "2              Other  \n",
       "3             Travel  \n",
       "4             Travel  "
      ]
     },
     "execution_count": 5,
     "metadata": {},
     "output_type": "execute_result"
    }
   ],
   "source": [
    "llama_8binstruct = pd.read_csv('data/Spreadsheets/receipts_llama_v2.csv')\n",
    "llama_8binstruct.head()"
   ]
  },
  {
   "cell_type": "code",
   "execution_count": 6,
   "id": "a83bbf67-0414-49c2-9232-1c27eb2bed95",
   "metadata": {},
   "outputs": [
    {
     "data": {
      "text/plain": [
       "0"
      ]
     },
     "execution_count": 6,
     "metadata": {},
     "output_type": "execute_result"
    }
   ],
   "source": [
    "sum(llama_8binstruct['category'] == 'Safety')"
   ]
  },
  {
   "cell_type": "code",
   "execution_count": 7,
   "id": "7068cdd6-d904-479e-8608-13d9f3ab7739",
   "metadata": {},
   "outputs": [],
   "source": [
    "act_supplies = 15\n",
    "act_meals = 37\n",
    "act_other = 1\n",
    "act_saftey = 0\n"
   ]
  },
  {
   "cell_type": "markdown",
   "id": "c67533b8-fd7d-4092-a656-b4eb1c7b31ae",
   "metadata": {},
   "source": [
    "#### Removing NaNs"
   ]
  },
  {
   "cell_type": "markdown",
   "id": "68d86844-08be-432f-83ac-d4b1b7062012",
   "metadata": {},
   "source": [
    "We'll replace these with \"Other\". This is corrected in the function that populates these spreadsheets."
   ]
  },
  {
   "cell_type": "code",
   "execution_count": 8,
   "id": "2e1c6434-a868-475e-85fd-8f2bd4719342",
   "metadata": {},
   "outputs": [],
   "source": [
    "llama_8binstruct['predicted_category'] = llama_8binstruct['predicted_category'].fillna(\"Other\")"
   ]
  },
  {
   "cell_type": "code",
   "execution_count": 9,
   "id": "def937c6-c3d1-4243-b2eb-c7ed90b8f637",
   "metadata": {},
   "outputs": [
    {
     "data": {
      "text/html": [
       "<div>\n",
       "<style scoped>\n",
       "    .dataframe tbody tr th:only-of-type {\n",
       "        vertical-align: middle;\n",
       "    }\n",
       "\n",
       "    .dataframe tbody tr th {\n",
       "        vertical-align: top;\n",
       "    }\n",
       "\n",
       "    .dataframe thead th {\n",
       "        text-align: right;\n",
       "    }\n",
       "</style>\n",
       "<table border=\"1\" class=\"dataframe\">\n",
       "  <thead>\n",
       "    <tr style=\"text-align: right;\">\n",
       "      <th></th>\n",
       "      <th>receipt_extract</th>\n",
       "      <th>object_name</th>\n",
       "      <th>date</th>\n",
       "      <th>subtotal</th>\n",
       "      <th>total</th>\n",
       "      <th>category</th>\n",
       "      <th>extracted_date</th>\n",
       "      <th>extracted_total</th>\n",
       "      <th>predicted_category</th>\n",
       "    </tr>\n",
       "  </thead>\n",
       "  <tbody>\n",
       "  </tbody>\n",
       "</table>\n",
       "</div>"
      ],
      "text/plain": [
       "Empty DataFrame\n",
       "Columns: [receipt_extract, object_name, date, subtotal, total, category, extracted_date, extracted_total, predicted_category]\n",
       "Index: []"
      ]
     },
     "execution_count": 9,
     "metadata": {},
     "output_type": "execute_result"
    }
   ],
   "source": [
    "# All gone\n",
    "llama_8binstruct[llama_8binstruct['predicted_category'] == np.nan]"
   ]
  },
  {
   "cell_type": "markdown",
   "id": "2376a756-725c-481b-ad47-6dbde01a558a",
   "metadata": {},
   "source": [
    "#### Calculate accuracy & Confusion matrix"
   ]
  },
  {
   "cell_type": "code",
   "execution_count": 10,
   "id": "59625c00-146d-4f65-b9cf-0b2a91da6fa5",
   "metadata": {},
   "outputs": [
    {
     "data": {
      "text/plain": [
       "['Meals', 'Safety', 'Other', 'Lodging', 'Travel', 'Supplies']"
      ]
     },
     "execution_count": 10,
     "metadata": {},
     "output_type": "execute_result"
    }
   ],
   "source": [
    "list(set(list(llama_8binstruct['category'].unique()) + list(llama_8binstruct['predicted_category'].unique())))"
   ]
  },
  {
   "cell_type": "code",
   "execution_count": 11,
   "id": "3723ee2b-0fdc-4f80-aae6-7f38bdb4a140",
   "metadata": {},
   "outputs": [
    {
     "name": "stdout",
     "output_type": "stream",
     "text": [
      "Total Receipts Analyzed: 99\n",
      "Accuracies:\n",
      "\tAmount: 85.86%\n",
      "\tDate: 77.78%\n",
      "\tCategory: 73.74%\n",
      "Misses:\n",
      "\tAmount: [25, 26, 30, 37, 42, 46, 61, 63, 75, 78, 79, 86, 87, 95]\n",
      "\tDate: [3, 4, 5, 6, 7, 19, 21, 22, 23, 24, 26, 47, 53, 58, 61, 64, 68, 70, 76, 85, 95, 98]\n",
      "\tCategory: [0, 1, 2, 7, 8, 9, 10, 11, 41, 42, 43, 49, 50, 51, 55, 56, 64, 66, 68, 69, 75, 84, 90, 91, 93, 97]\n",
      "\n"
     ]
    },
    {
     "data": {
      "image/png": "[encoded data removed]",
      "text/plain": [
       "<Figure size 640x480 with 2 Axes>"
      ]
     },
     "metadata": {},
     "output_type": "display_data"
    },
    {
     "name": "stdout",
     "output_type": "stream",
     "text": [
      "              precision    recall  f1-score   support\n",
      "\n",
      "     Lodging       1.00      0.94      0.97        16\n",
      "       Meals       0.69      1.00      0.81        37\n",
      "       Other       0.00      0.00      0.00         1\n",
      "      Safety       0.00      0.00      0.00         0\n",
      "    Supplies       0.90      0.60      0.72        15\n",
      "      Travel       1.00      0.40      0.57        30\n",
      "\n",
      "    accuracy                           0.74        99\n",
      "   macro avg       0.60      0.49      0.51        99\n",
      "weighted avg       0.86      0.74      0.74        99\n",
      "\n"
     ]
    }
   ],
   "source": [
    "calculate_accuracies(llama_8binstruct)\n",
    "print()\n",
    "build_confusion_matrix(llama_8binstruct)"
   ]
  },
  {
   "cell_type": "markdown",
   "id": "3f080966-c11e-41a3-acf6-7b03efc1fe24",
   "metadata": {},
   "source": [
    "The model appears to overly weight the \"Meals\" category. The precision value of Meals shows that when the model predicts \"Meals\", it is only correct 69% of the time. It's pretty good at identifying Lodging: 0 false positives and only 1 false negative. "
   ]
  },
  {
   "cell_type": "markdown",
   "id": "06cf0f61-c25b-4105-b509-e041b3ccf5b7",
   "metadata": {},
   "source": [
    "### Amazon Titan Text Express"
   ]
  },
  {
   "cell_type": "markdown",
   "id": "b7fc11ae-a3e3-4c9f-980f-a425aaeb0ca0",
   "metadata": {},
   "source": [
    "**Top P** = .5 <br>\n",
    "**Temperature** = .5 <br>"
   ]
  },
  {
   "cell_type": "code",
   "execution_count": 12,
   "id": "a61a125d-6a0b-44fa-a5b2-d970c80fabd4",
   "metadata": {},
   "outputs": [
    {
     "data": {
      "text/html": [
       "<div>\n",
       "<style scoped>\n",
       "    .dataframe tbody tr th:only-of-type {\n",
       "        vertical-align: middle;\n",
       "    }\n",
       "\n",
       "    .dataframe tbody tr th {\n",
       "        vertical-align: top;\n",
       "    }\n",
       "\n",
       "    .dataframe thead th {\n",
       "        text-align: right;\n",
       "    }\n",
       "</style>\n",
       "<table border=\"1\" class=\"dataframe\">\n",
       "  <thead>\n",
       "    <tr style=\"text-align: right;\">\n",
       "      <th></th>\n",
       "      <th>receipt_extract</th>\n",
       "      <th>object_name</th>\n",
       "      <th>date</th>\n",
       "      <th>subtotal</th>\n",
       "      <th>total</th>\n",
       "      <th>category</th>\n",
       "      <th>extracted_date</th>\n",
       "      <th>extracted_total</th>\n",
       "      <th>predicted_category</th>\n",
       "    </tr>\n",
       "  </thead>\n",
       "  <tbody>\n",
       "    <tr>\n",
       "      <th>0</th>\n",
       "      <td>{\"NAME\": \"DELTA\", \"INVOICE_RECEIPT_DATE\": \"22S...</td>\n",
       "      <td>Airfare1.jpg</td>\n",
       "      <td>09/22/2024</td>\n",
       "      <td>45.00</td>\n",
       "      <td>45.00</td>\n",
       "      <td>Travel</td>\n",
       "      <td>09/22/2024</td>\n",
       "      <td>45.00</td>\n",
       "      <td>Meals</td>\n",
       "    </tr>\n",
       "    <tr>\n",
       "      <th>1</th>\n",
       "      <td>{\"NAME\": \"Alaska Airlines Alaska Fairbanks ANC...</td>\n",
       "      <td>Airfare2.jpg</td>\n",
       "      <td>11/13/2024</td>\n",
       "      <td>545.11</td>\n",
       "      <td>614.69</td>\n",
       "      <td>Travel</td>\n",
       "      <td>11/13/2024</td>\n",
       "      <td>614.69</td>\n",
       "      <td>Travel</td>\n",
       "    </tr>\n",
       "    <tr>\n",
       "      <th>2</th>\n",
       "      <td>{\"NAME\": \"National.\", \"items\": {\"item0\": \"TIME...</td>\n",
       "      <td>CarRental1.jpg</td>\n",
       "      <td>12/15/2024</td>\n",
       "      <td>355.00</td>\n",
       "      <td>505.63</td>\n",
       "      <td>Travel</td>\n",
       "      <td>12/15/2024</td>\n",
       "      <td>505.63</td>\n",
       "      <td>Travel</td>\n",
       "    </tr>\n",
       "    <tr>\n",
       "      <th>3</th>\n",
       "      <td>{\"AMOUNT_PAID\": \"$0.00\", \"items\": {\"item0\": \"C...</td>\n",
       "      <td>CarRental2.jpg</td>\n",
       "      <td>01/01/1900</td>\n",
       "      <td>173.14</td>\n",
       "      <td>173.14</td>\n",
       "      <td>Travel</td>\n",
       "      <td>01/01/1899</td>\n",
       "      <td>173.14</td>\n",
       "      <td>Travel</td>\n",
       "    </tr>\n",
       "    <tr>\n",
       "      <th>4</th>\n",
       "      <td>{\"ADDRESS\": \"BOZEMAN INTL ARPT\\n850 GALLATIN F...</td>\n",
       "      <td>CarRental3.jpg</td>\n",
       "      <td>12/20/2024</td>\n",
       "      <td>272.83</td>\n",
       "      <td>319.18</td>\n",
       "      <td>Travel</td>\n",
       "      <td>01/01/1899</td>\n",
       "      <td>319.18</td>\n",
       "      <td>Meals</td>\n",
       "    </tr>\n",
       "  </tbody>\n",
       "</table>\n",
       "</div>"
      ],
      "text/plain": [
       "                                     receipt_extract     object_name  \\\n",
       "0  {\"NAME\": \"DELTA\", \"INVOICE_RECEIPT_DATE\": \"22S...    Airfare1.jpg   \n",
       "1  {\"NAME\": \"Alaska Airlines Alaska Fairbanks ANC...    Airfare2.jpg   \n",
       "2  {\"NAME\": \"National.\", \"items\": {\"item0\": \"TIME...  CarRental1.jpg   \n",
       "3  {\"AMOUNT_PAID\": \"$0.00\", \"items\": {\"item0\": \"C...  CarRental2.jpg   \n",
       "4  {\"ADDRESS\": \"BOZEMAN INTL ARPT\\n850 GALLATIN F...  CarRental3.jpg   \n",
       "\n",
       "         date  subtotal   total category extracted_date  extracted_total  \\\n",
       "0  09/22/2024     45.00   45.00   Travel     09/22/2024            45.00   \n",
       "1  11/13/2024    545.11  614.69   Travel     11/13/2024           614.69   \n",
       "2  12/15/2024    355.00  505.63   Travel     12/15/2024           505.63   \n",
       "3  01/01/1900    173.14  173.14   Travel     01/01/1899           173.14   \n",
       "4  12/20/2024    272.83  319.18   Travel     01/01/1899           319.18   \n",
       "\n",
       "  predicted_category  \n",
       "0              Meals  \n",
       "1             Travel  \n",
       "2             Travel  \n",
       "3             Travel  \n",
       "4              Meals  "
      ]
     },
     "execution_count": 12,
     "metadata": {},
     "output_type": "execute_result"
    }
   ],
   "source": [
    "titan_text_lite = pd.read_csv('data/Spreadsheets/receipts_titantextlite_promptv2.csv')\n",
    "titan_text_lite.head()"
   ]
  },
  {
   "cell_type": "code",
   "execution_count": 13,
   "id": "a92e1d51-8b80-42b4-9c6e-75bb205e106e",
   "metadata": {},
   "outputs": [
    {
     "name": "stdout",
     "output_type": "stream",
     "text": [
      "Total Receipts Analyzed: 99\n",
      "Accuracies:\n",
      "\tAmount: 85.86%\n",
      "\tDate: 77.78%\n",
      "\tCategory: 69.70%\n",
      "Misses:\n",
      "\tAmount: [25, 26, 30, 37, 42, 46, 61, 63, 75, 78, 79, 86, 87, 95]\n",
      "\tDate: [3, 4, 5, 6, 7, 19, 21, 22, 23, 24, 26, 47, 53, 58, 61, 64, 68, 70, 76, 85, 95, 98]\n",
      "\tCategory: [0, 4, 6, 8, 9, 10, 11, 16, 22, 24, 26, 41, 43, 44, 46, 47, 50, 52, 53, 58, 60, 66, 75, 76, 80, 81, 86, 89, 91, 93]\n",
      "\n"
     ]
    },
    {
     "data": {
      "image/png": "[encoded data removed]",
      "text/plain": [
       "<Figure size 640x480 with 2 Axes>"
      ]
     },
     "metadata": {},
     "output_type": "display_data"
    },
    {
     "name": "stdout",
     "output_type": "stream",
     "text": [
      "              precision    recall  f1-score   support\n",
      "\n",
      "     Lodging       1.00      0.62      0.77        16\n",
      "       Meals       0.67      0.97      0.79        37\n",
      "       Other       0.00      0.00      0.00         1\n",
      "    Supplies       1.00      0.40      0.57        15\n",
      "      Travel       1.00      0.57      0.72        30\n",
      "\n",
      "    accuracy                           0.70        99\n",
      "   macro avg       0.73      0.51      0.57        99\n",
      "weighted avg       0.87      0.70      0.73        99\n",
      "\n"
     ]
    }
   ],
   "source": [
    "calculate_accuracies(titan_text_lite)\n",
    "\n",
    "print()\n",
    "build_confusion_matrix(titan_text_lite)"
   ]
  },
  {
   "cell_type": "markdown",
   "id": "9a9f698a-8a4a-4e7d-a5ff-6f59405f3f34",
   "metadata": {},
   "source": [
    "This model also favors Meals. It's not inherently a bad thing because the vast majority of receipts employees turn in for reimbursement are for Meals. Which is also why the majority of tested receipts are Meals. Other than that, it seems to do well on Travel but poorly on Supplies and lodging compared to llama 3b."
   ]
  },
  {
   "cell_type": "markdown",
   "id": "22d5f78e-c129-4000-9f64-ed0c487dea1e",
   "metadata": {},
   "source": [
    "## Llama 3 70B Instruct"
   ]
  },
  {
   "cell_type": "code",
   "execution_count": 16,
   "id": "d4ccd609-8f4c-4f1f-9bb6-9baa98d5b98f",
   "metadata": {},
   "outputs": [
    {
     "data": {
      "text/html": [
       "<div>\n",
       "<style scoped>\n",
       "    .dataframe tbody tr th:only-of-type {\n",
       "        vertical-align: middle;\n",
       "    }\n",
       "\n",
       "    .dataframe tbody tr th {\n",
       "        vertical-align: top;\n",
       "    }\n",
       "\n",
       "    .dataframe thead th {\n",
       "        text-align: right;\n",
       "    }\n",
       "</style>\n",
       "<table border=\"1\" class=\"dataframe\">\n",
       "  <thead>\n",
       "    <tr style=\"text-align: right;\">\n",
       "      <th></th>\n",
       "      <th>receipt_extract</th>\n",
       "      <th>object_name</th>\n",
       "      <th>date</th>\n",
       "      <th>subtotal</th>\n",
       "      <th>total</th>\n",
       "      <th>category</th>\n",
       "      <th>extracted_date</th>\n",
       "      <th>extracted_total</th>\n",
       "      <th>predicted_category</th>\n",
       "    </tr>\n",
       "  </thead>\n",
       "  <tbody>\n",
       "    <tr>\n",
       "      <th>0</th>\n",
       "      <td>{\"NAME\": \"DELTA\", \"INVOICE_RECEIPT_DATE\": \"22S...</td>\n",
       "      <td>Airfare1.jpg</td>\n",
       "      <td>09/22/2024</td>\n",
       "      <td>45.00</td>\n",
       "      <td>45.00</td>\n",
       "      <td>Travel</td>\n",
       "      <td>09/22/2024</td>\n",
       "      <td>45.00</td>\n",
       "      <td>Travel</td>\n",
       "    </tr>\n",
       "    <tr>\n",
       "      <th>1</th>\n",
       "      <td>{\"NAME\": \"Alaska Airlines Alaska Fairbanks ANC...</td>\n",
       "      <td>Airfare2.jpg</td>\n",
       "      <td>11/13/2024</td>\n",
       "      <td>545.11</td>\n",
       "      <td>614.69</td>\n",
       "      <td>Travel</td>\n",
       "      <td>11/13/2024</td>\n",
       "      <td>614.69</td>\n",
       "      <td>Travel</td>\n",
       "    </tr>\n",
       "    <tr>\n",
       "      <th>2</th>\n",
       "      <td>{\"NAME\": \"National.\", \"items\": {\"item0\": \"TIME...</td>\n",
       "      <td>CarRental1.jpg</td>\n",
       "      <td>12/15/2024</td>\n",
       "      <td>355.00</td>\n",
       "      <td>505.63</td>\n",
       "      <td>Travel</td>\n",
       "      <td>12/15/2024</td>\n",
       "      <td>505.63</td>\n",
       "      <td>Travel</td>\n",
       "    </tr>\n",
       "    <tr>\n",
       "      <th>3</th>\n",
       "      <td>{\"AMOUNT_PAID\": \"$0.00\", \"items\": {\"item0\": \"C...</td>\n",
       "      <td>CarRental2.jpg</td>\n",
       "      <td>01/01/1900</td>\n",
       "      <td>173.14</td>\n",
       "      <td>173.14</td>\n",
       "      <td>Travel</td>\n",
       "      <td>01/01/1899</td>\n",
       "      <td>173.14</td>\n",
       "      <td>Travel</td>\n",
       "    </tr>\n",
       "    <tr>\n",
       "      <th>4</th>\n",
       "      <td>{\"ADDRESS\": \"BOZEMAN INTL ARPT\\n850 GALLATIN F...</td>\n",
       "      <td>CarRental3.jpg</td>\n",
       "      <td>12/20/2024</td>\n",
       "      <td>272.83</td>\n",
       "      <td>319.18</td>\n",
       "      <td>Travel</td>\n",
       "      <td>01/01/1899</td>\n",
       "      <td>319.18</td>\n",
       "      <td>Travel</td>\n",
       "    </tr>\n",
       "  </tbody>\n",
       "</table>\n",
       "</div>"
      ],
      "text/plain": [
       "                                     receipt_extract     object_name  \\\n",
       "0  {\"NAME\": \"DELTA\", \"INVOICE_RECEIPT_DATE\": \"22S...    Airfare1.jpg   \n",
       "1  {\"NAME\": \"Alaska Airlines Alaska Fairbanks ANC...    Airfare2.jpg   \n",
       "2  {\"NAME\": \"National.\", \"items\": {\"item0\": \"TIME...  CarRental1.jpg   \n",
       "3  {\"AMOUNT_PAID\": \"$0.00\", \"items\": {\"item0\": \"C...  CarRental2.jpg   \n",
       "4  {\"ADDRESS\": \"BOZEMAN INTL ARPT\\n850 GALLATIN F...  CarRental3.jpg   \n",
       "\n",
       "         date  subtotal   total category extracted_date  extracted_total  \\\n",
       "0  09/22/2024     45.00   45.00   Travel     09/22/2024            45.00   \n",
       "1  11/13/2024    545.11  614.69   Travel     11/13/2024           614.69   \n",
       "2  12/15/2024    355.00  505.63   Travel     12/15/2024           505.63   \n",
       "3  01/01/1900    173.14  173.14   Travel     01/01/1899           173.14   \n",
       "4  12/20/2024    272.83  319.18   Travel     01/01/1899           319.18   \n",
       "\n",
       "  predicted_category  \n",
       "0             Travel  \n",
       "1             Travel  \n",
       "2             Travel  \n",
       "3             Travel  \n",
       "4             Travel  "
      ]
     },
     "execution_count": 16,
     "metadata": {},
     "output_type": "execute_result"
    }
   ],
   "source": [
    "llama_seventyb = pd.read_csv('data/Spreadsheets/receipts_llama_70binstruct.csv')\n",
    "llama_seventyb.head()"
   ]
  },
  {
   "cell_type": "code",
   "execution_count": 17,
   "id": "e8587425-5d08-4c54-a16d-575edd7d2f27",
   "metadata": {},
   "outputs": [],
   "source": [
    "llama_seventyb['predicted_category'] = llama_seventyb['predicted_category'].fillna(\"Other\")"
   ]
  },
  {
   "cell_type": "code",
   "execution_count": 18,
   "id": "b7c3bd24-b8fc-4845-9dd7-ea0cdbb93d91",
   "metadata": {},
   "outputs": [
    {
     "name": "stdout",
     "output_type": "stream",
     "text": [
      "Total Receipts Analyzed: 99\n",
      "Accuracies:\n",
      "\tAmount: 85.86%\n",
      "\tDate: 77.78%\n",
      "\tCategory: 88.89%\n",
      "Misses:\n",
      "\tAmount: [25, 26, 30, 37, 42, 46, 61, 63, 75, 78, 79, 86, 87, 95]\n",
      "\tDate: [3, 4, 5, 6, 7, 19, 21, 22, 23, 24, 26, 47, 53, 58, 61, 64, 68, 70, 76, 85, 95, 98]\n",
      "\tCategory: [8, 9, 10, 24, 41, 77, 87, 88, 91, 93, 94]\n",
      "\n"
     ]
    },
    {
     "data": {
      "image/png": "[encoded data removed]",
      "text/plain": [
       "<Figure size 640x480 with 2 Axes>"
      ]
     },
     "metadata": {},
     "output_type": "display_data"
    },
    {
     "name": "stdout",
     "output_type": "stream",
     "text": [
      "              precision    recall  f1-score   support\n",
      "\n",
      "     Lodging       1.00      0.94      0.97        16\n",
      "       Meals       0.92      0.89      0.90        37\n",
      "       Other       0.00      0.00      0.00         1\n",
      "    Supplies       0.75      1.00      0.86        15\n",
      "      Travel       0.96      0.83      0.89        30\n",
      "\n",
      "    accuracy                           0.89        99\n",
      "   macro avg       0.73      0.73      0.72        99\n",
      "weighted avg       0.91      0.89      0.89        99\n",
      "\n"
     ]
    }
   ],
   "source": [
    "calculate_accuracies(llama_seventyb)\n",
    "print()\n",
    "build_confusion_matrix(llama_seventyb)"
   ]
  },
  {
   "cell_type": "markdown",
   "id": "bf74a043-79d8-4fb6-910f-14cee6497553",
   "metadata": {},
   "source": [
    "Really good. All models seem to have difficulty with Travel receipts. This may have more to do with receipt quality."
   ]
  }
 ],
 "metadata": {
  "kernelspec": {
   "display_name": "Python 3 (ipykernel)",
   "language": "python",
   "name": "python3"
  },
  "language_info": {
   "codemirror_mode": {
    "name": "ipython",
    "version": 3
   },
   "file_extension": ".py",
   "mimetype": "text/x-python",
   "name": "python",
   "nbconvert_exporter": "python",
   "pygments_lexer": "ipython3",
   "version": "3.12.8"
  }
 },
 "nbformat": 4,
 "nbformat_minor": 5
}
