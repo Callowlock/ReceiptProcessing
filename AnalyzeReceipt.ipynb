{
 "cells": [
  {
   "cell_type": "code",
   "execution_count": 22,
   "id": "b97ad073-cdfc-4d60-8c39-21a7bf9f53ea",
   "metadata": {},
   "outputs": [],
   "source": [
    "import logging\n",
    "import boto3\n",
    "from botocore.exceptions import ClientError\n",
    "from botocore.exceptions import NoCredentialsError\n",
    "import os\n",
    "import json\n",
    "from datetime import datetime\n",
    "import numpy as np\n",
    "import pandas as pd"
   ]
  },
  {
   "cell_type": "code",
   "execution_count": null,
   "id": "3a99870b-dbf4-4d4f-a194-720379ca280f",
   "metadata": {},
   "outputs": [],
   "source": []
  },
  {
   "cell_type": "code",
   "execution_count": 2,
   "id": "03c38ac3-274b-49b4-b2b8-c711748570b3",
   "metadata": {},
   "outputs": [],
   "source": [
    "# Uploading a new file to S3\n",
    "\n",
    "def upload_file_to_s3(file_name, bucket_name, object_name=None):\n",
    "    \"\"\"\n",
    "    Uploads a file to an S3 bucket.\n",
    "    \n",
    "    :param file_name: Path to the file to upload\n",
    "    :param bucket_name: Name of the S3 bucket\n",
    "    :param object_name: S3 object name. If not specified, file_name is used\n",
    "    :return: a string of the response\n",
    "    \"\"\"\n",
    "    # If S3 object_name was not specified, use file_name\n",
    "    if object_name is None:\n",
    "        object_name = file_name\n",
    "\n",
    "    # Initialize the S3 client\n",
    "    s3 = boto3.client('s3')\n",
    "\n",
    "    \n",
    "    try:\n",
    "        with open(file_name, \"rb\") as file_data: # Uploading the FILE CONTENTS not the filepath\n",
    "            response = s3.put_object(\n",
    "                Body=file_data,\n",
    "                Bucket=bucket_name,\n",
    "                Key=object_name,                # This is the what the file will be called in S3\n",
    "            )\n",
    "        s = response\n",
    "        print(response)\n",
    "        return s\n",
    "    except FileNotFoundError:\n",
    "        print(f\"The file {file_name} was not found.\")\n",
    "    except NoCredentialsError:\n",
    "        print(\"AWS credentials not available.\")\n",
    "\n"
   ]
  },
  {
   "cell_type": "code",
   "execution_count": 3,
   "id": "5ff1a0f4-e610-403c-a6d1-d06f10d59744",
   "metadata": {},
   "outputs": [],
   "source": [
    "# Use your own bucket and file name\n",
    "bucket_name = \"test-bucket-cnevares-2024\"\n",
    "file_name = \"data/Hotel1.jpg\"\n",
    "object_name = file_name.split('/')[1]\n"
   ]
  },
  {
   "cell_type": "code",
   "execution_count": 5,
   "id": "9d85aebe-0a22-4eb6-a4d7-c383d1bb14c0",
   "metadata": {},
   "outputs": [
    {
     "name": "stdout",
     "output_type": "stream",
     "text": [
      "{'ResponseMetadata': {'RequestId': 'SEJE5A8ZXCK81A76', 'HostId': 'je+us/i+xtewohEJNUIldAH4ZpVIxVG2keqEG1MgZ7cvpLflbSI4hEP6vuBSiHbF7rUksQ+88Os=', 'HTTPStatusCode': 200, 'HTTPHeaders': {'x-amz-id-2': 'je+us/i+xtewohEJNUIldAH4ZpVIxVG2keqEG1MgZ7cvpLflbSI4hEP6vuBSiHbF7rUksQ+88Os=', 'x-amz-request-id': 'SEJE5A8ZXCK81A76', 'date': 'Sun, 29 Dec 2024 02:25:09 GMT', 'x-amz-server-side-encryption': 'AES256', 'etag': '\"7bc5adc4783acdc0f4727423a96fd3d2\"', 'content-length': '0', 'server': 'AmazonS3'}, 'RetryAttempts': 0}, 'ETag': '\"7bc5adc4783acdc0f4727423a96fd3d2\"', 'ServerSideEncryption': 'AES256'}\n"
     ]
    }
   ],
   "source": [
    "s = upload_file_to_s3(file_name, bucket_name, object_name=object_name)"
   ]
  },
  {
   "cell_type": "code",
   "execution_count": 6,
   "id": "331af451-f691-4275-b130-24d6ee0b2bd4",
   "metadata": {},
   "outputs": [],
   "source": [
    "# Analyze a receipt in an S3 bucket\n",
    "\n",
    "def analyze_receipt(bucket_name, object_name):\n",
    "    \"\"\"\n",
    "    :param bucket_name: Name of the S3 bucket\n",
    "    :param object_name: S3 object name\n",
    "    :return: string of the response\n",
    "    \"\"\"\n",
    "    \n",
    "    client = boto3.client('textract')\n",
    "\n",
    "    try:\n",
    "        response = client.analyze_expense(\n",
    "            \n",
    "            Document = {\n",
    "                \"S3Object\": {\n",
    "                    \"Bucket\": bucket_name,\n",
    "                    \"Name\": object_name\n",
    "                }\n",
    "            }\n",
    "        )\n",
    "        s = response\n",
    "        print(\"Success!\")\n",
    "        return s\n",
    "        \n",
    "    except FileNotFoundError:\n",
    "        print(f\"The file {file_name} was not found.\")\n",
    "    except NoCredentialsError:\n",
    "        print(\"AWS credentials not available.\")"
   ]
  },
  {
   "cell_type": "code",
   "execution_count": 7,
   "id": "67a5a837-c60e-4a7d-8ef1-7a73a89daa6d",
   "metadata": {},
   "outputs": [
    {
     "name": "stdout",
     "output_type": "stream",
     "text": [
      "Success!\n"
     ]
    }
   ],
   "source": [
    "text_extract = analyze_receipt(bucket_name, object_name)"
   ]
  },
  {
   "cell_type": "code",
   "execution_count": 8,
   "id": "08176a3e-b658-470c-a961-4b8d8f6e58aa",
   "metadata": {},
   "outputs": [
    {
     "name": "stdout",
     "output_type": "stream",
     "text": [
      "ADDRESS: Super 8 by Wyndham ewistown\n",
      "102 Wendell Ave\n",
      "Lewistown MT 59457\n",
      "United States\n",
      "\n",
      "STREET: 102 Wendell Ave\n",
      "\n",
      "CITY: Lewistown\n",
      "\n",
      "STATE: MT\n",
      "\n",
      "ZIP_CODE: 59457\n",
      "\n",
      "COUNTRY: United States\n",
      "\n",
      "ADDRESS_BLOCK: 102 Wendell Ave\n",
      "Lewistown MT 59457\n",
      "United States\n",
      "\n",
      "INVOICE_RECEIPT_DATE: 12/20/2024\n",
      "\n",
      "INVOICE_RECEIPT_ID: H9970857\n",
      "\n",
      "RECEIVER_NAME: \n",
      "\n",
      "TAX: $47.68 USD\n",
      "\n",
      "TOTAL: $514.01 USD\n",
      "\n",
      "VENDOR_ADDRESS: Super 8 by Wyndham ewistown\n",
      "102 Wendell Ave\n",
      "Lewistown MT 59457\n",
      "United States\n",
      "\n",
      "VENDOR_URL: reserve1 hatelguides.com/Res\n",
      "\n",
      "OTHER: H9970857\n",
      "\n",
      "OTHER: Confirmed\n",
      "\n",
      "OTHER: 1 room for 3 nights\n",
      "\n",
      "OTHER: December 17 2024 (Tue)\n",
      "\n",
      "OTHER: December 20. 2024 (Fri)\n",
      "\n",
      "OTHER: Super\n",
      "\n",
      "OTHER: 86241EE026909\n",
      "\n",
      "OTHER: Confirmed\n",
      "\n",
      "OTHER: 1 adult 0 children\n",
      "\n",
      "OTHER: 1 King Bed (Room Only)\n",
      "\n",
      "OTHER: $123.66 USD\n",
      "\n",
      "\n"
     ]
    }
   ],
   "source": [
    "## The Fields detected and their values\n",
    "for i in range(len(text_extract['ExpenseDocuments'][0]['SummaryFields'])):\n",
    "    print(text_extract['ExpenseDocuments'][0]['SummaryFields'][i]['Type']['Text'] +\": \" + text_extract['ExpenseDocuments'][0]['SummaryFields'][i]['ValueDetection']['Text'] )\n",
    "    print()\n",
    "print()"
   ]
  },
  {
   "cell_type": "code",
   "execution_count": 17,
   "id": "a0e1086a-ed1c-4687-87df-eaf523ee0dd2",
   "metadata": {},
   "outputs": [
    {
     "name": "stdout",
     "output_type": "stream",
     "text": [
      "{'ADDRESS': 'Super 8 by Wyndham ewistown\\n102 Wendell Ave\\nLewistown MT 59457\\nUnited States', 'STREET': '102 Wendell Ave', 'CITY': 'Lewistown', 'STATE': 'MT', 'ZIP_CODE': '59457', 'COUNTRY': 'United States', 'ADDRESS_BLOCK': '102 Wendell Ave\\nLewistown MT 59457\\nUnited States', 'INVOICE_RECEIPT_DATE': '12/20/2024', 'INVOICE_RECEIPT_ID': 'H9970857', 'RECEIVER_NAME': '', 'TAX': '$47.68 USD', 'TOTAL': '$514.01 USD', 'VENDOR_ADDRESS': 'Super 8 by Wyndham ewistown\\n102 Wendell Ave\\nLewistown MT 59457\\nUnited States', 'VENDOR_URL': 'reserve1 hatelguides.com/Res', 'OTHER': 'H9970857 Confirmed 1 room for 3 nights December 17 2024 (Tue) December 20. 2024 (Fri) Super 86241EE026909 Confirmed 1 adult 0 children 1 King Bed (Room Only) $123.66 USD'}\n"
     ]
    }
   ],
   "source": [
    "# Condensing response into only useful(ish) values\n",
    "\n",
    "condensed_extract = {}\n",
    "exclude = []\n",
    "for i in range(len(text_extract['ExpenseDocuments'][0]['SummaryFields'])):\n",
    "    \n",
    "    key = text_extract['ExpenseDocuments'][0]['SummaryFields'][i]['Type']['Text']\n",
    "    value = text_extract['ExpenseDocuments'][0]['SummaryFields'][i]['ValueDetection']['Text']\n",
    "    if key not in condensed_extract.keys():\n",
    "        condensed_extract[key] = value\n",
    "\n",
    "    else:\n",
    "        temp = \" \" + value\n",
    "        condensed_extract[key] +\n",
    "if len(text_extract['ExpenseDocuments'][0]['LineItemGroups'][0]['LineItems'])> 0:\n",
    "    condensed_extract['items'] = {}\n",
    "    for j in range(len(text_extract['ExpenseDocuments'][0]['LineItemGroups'][0]['LineItems'][0]['LineItemExpenseFields'])):\n",
    "        value = text_extract['ExpenseDocuments'][0]['LineItemGroups'][0]['LineItems'][0]['LineItemExpenseFields'][j]['ValueDetection']['Text']\n",
    "        condensed_extract['items']['item'+str(j)] = value\n",
    "\n",
    "print(condensed_extract)"
   ]
  },
  {
   "cell_type": "code",
   "execution_count": 18,
   "id": "0c78ead8-d965-4d78-a7af-6d24af6ec9ba",
   "metadata": {},
   "outputs": [
    {
     "data": {
      "text/plain": [
       "'H9970857 Confirmed 1 room for 3 nights December 17 2024 (Tue) December 20. 2024 (Fri) Super 86241EE026909 Confirmed 1 adult 0 children 1 King Bed (Room Only) $123.66 USD'"
      ]
     },
     "execution_count": 18,
     "metadata": {},
     "output_type": "execute_result"
    }
   ],
   "source": [
    "condensed_extract['OTHER']"
   ]
  },
  {
   "cell_type": "code",
   "execution_count": 19,
   "id": "f4403c7b-4bdf-4122-9e43-44b30506e600",
   "metadata": {},
   "outputs": [
    {
     "data": {
      "text/plain": [
       "False"
      ]
     },
     "execution_count": 19,
     "metadata": {},
     "output_type": "execute_result"
    }
   ],
   "source": [
    "len(text_extract['ExpenseDocuments'][0]['LineItemGroups'][0]['LineItems'])> 0"
   ]
  },
  {
   "cell_type": "code",
   "execution_count": 20,
   "id": "a65ff7ee-b41b-4edc-9c35-efee4e94c33a",
   "metadata": {},
   "outputs": [
    {
     "name": "stdout",
     "output_type": "stream",
     "text": [
      "\n",
      "You are an expert in receipt categorization. Categorize the following receipt into one of these categories: Meals, Supplies, Safety, Travel, Lodging, or Other. \n",
      "Respond in the format: \"Category:<category>.\"\n",
      "Do not include explanations, steps, or any additional text.\n",
      "Receipt:\n",
      "\n",
      "ADDRESS:Super 8 by Wyndham ewistown\n",
      "102 Wendell Ave\n",
      "Lewistown MT 59457\n",
      "United States\n",
      "STREET:102 Wendell Ave\n",
      "CITY:Lewistown\n",
      "STATE:MT\n",
      "ZIP_CODE:59457\n",
      "COUNTRY:United States\n",
      "ADDRESS_BLOCK:102 Wendell Ave\n",
      "Lewistown MT 59457\n",
      "United States\n",
      "INVOICE_RECEIPT_DATE:12/20/2024\n",
      "INVOICE_RECEIPT_ID:H9970857\n",
      "RECEIVER_NAME:\n",
      "TAX:$47.68 USD\n",
      "TOTAL:$514.01 USD\n",
      "VENDOR_ADDRESS:Super 8 by Wyndham ewistown\n",
      "102 Wendell Ave\n",
      "Lewistown MT 59457\n",
      "United States\n",
      "VENDOR_URL:reserve1 hatelguides.com/Res\n",
      "OTHER:H9970857 Confirmed 1 room for 3 nights December 17 2024 (Tue) December 20. 2024 (Fri) Super 86241EE026909 Confirmed 1 adult 0 children 1 King Bed (Room Only) $123.66 USD\n",
      "Category:\n"
     ]
    }
   ],
   "source": [
    "# formatting for prompt\n",
    "\n",
    "prompt = '''\n",
    "You are an expert in receipt categorization. Categorize the following receipt into one of these categories: Meals, Supplies, Safety, Travel, Lodging, or Other. \n",
    "Respond in the format: \"Category:<category>.\"\n",
    "Do not include explanations, steps, or any additional text.\n",
    "Receipt:\n",
    "\n",
    "'''\n",
    "for key in condensed_extract.keys():\n",
    "    if key == 'items':\n",
    "        prompt+=key +\":\\n\"\n",
    "        for k in condensed_extract['items'].keys():\n",
    "            prompt+= k + \":\" + condensed_extract['items'][k].replace('\\n',' ') +'\\n'\n",
    "    else:\n",
    "        prompt += key +\":\"+condensed_extract[key]+\"\\n\"\n",
    "prompt+=\"Category:\"\n",
    "\n",
    "print(prompt)"
   ]
  },
  {
   "cell_type": "code",
   "execution_count": 21,
   "id": "ed53fcee-1520-4c1f-80ca-077c32e32315",
   "metadata": {},
   "outputs": [
    {
     "name": "stdout",
     "output_type": "stream",
     "text": [
      " Lodging\n"
     ]
    }
   ],
   "source": [
    "# Prompting the model\n",
    "\n",
    "def prompt_model_titan_express(json_derulo):\n",
    "    client = boto3.client('bedrock-runtime')\n",
    "    try:\n",
    "        response = client.invoke_model(\n",
    "            modelId = 'amazon.titan-text-lite-v1',\n",
    "            contentType = 'application/json',\n",
    "            accept = \"application/json\",\n",
    "            body = json.dumps(\n",
    "                {\n",
    "                    'inputText':json_derulo,\n",
    "                    'textGenerationConfig': \n",
    "                    {\n",
    "                        'maxTokenCount': 20,\n",
    "                        'temperature' : .5,\n",
    "                        'topP':.5\n",
    "                    }\n",
    "                }\n",
    "            )\n",
    "        )\n",
    "            \n",
    "        body = response['body']\n",
    "        return body\n",
    "    except FileNotFoundError:\n",
    "        print(f\"The file {file_name} was not found.\")\n",
    "    except NoCredentialsError:\n",
    "        print(\"AWS credentials not available.\")\n",
    "\n",
    "out = prompt_model_titan_express(prompt)\n",
    "\n",
    "# Printing the response\n",
    "body_content = out.read().decode('utf-8')\n",
    "\n",
    "# Parse the JSON content\n",
    "parsed_body = json.loads(body_content)\n",
    "\n",
    "# Print the parsed body\n",
    "print(parsed_body['results'][0]['outputText'])"
   ]
  },
  {
   "cell_type": "code",
   "execution_count": 188,
   "id": "90cf36cc-5adf-444e-ba04-222cd4610867",
   "metadata": {},
   "outputs": [],
   "source": [
    "# This is to reformat dates extracted into a consistent format. uccrently \n",
    "def reformat_date(date_string):\n",
    "    # List of potential input formats\n",
    "    input_formats = [\"%m/%d/%y\", \"%m/%d/%Y\", \"%m/%-d/%y\", \"%m/%-d/%Y\", \"%-m/%d/%y\", \"%-m/%d/%Y\", \"%B %d %Y\", \"%b %d %Y\",\n",
    "    ]\n",
    "    \n",
    "    # Try parsing with each format\n",
    "    for fmt in input_formats:\n",
    "        try:\n",
    "            date_object = datetime.strptime(date_string, fmt)\n",
    "            break\n",
    "        except ValueError:\n",
    "            continue\n",
    "    else:\n",
    "        raise ValueError(f\"Date format not recognized: {date_string}\")\n",
    "    \n",
    "    # Format to \"mm/dd/yyyy\"\n",
    "    date_object = date_object.strftime(\"%m/%d/%Y\")\n",
    "    return datetime.strptime(date_object, \"%m/%d/%Y\").date() #return date portion of datetime object"
   ]
  },
  {
   "cell_type": "code",
   "execution_count": 179,
   "id": "92f6aa1a-17b2-445f-aeca-e13025a38098",
   "metadata": {},
   "outputs": [
    {
     "data": {
      "text/plain": [
       "datetime.date(2024, 8, 13)"
      ]
     },
     "execution_count": 179,
     "metadata": {},
     "output_type": "execute_result"
    }
   ],
   "source": [
    "reformatted_date"
   ]
  },
  {
   "cell_type": "code",
   "execution_count": 180,
   "id": "88b920c6-772a-4eaa-853c-56223a4cc6f8",
   "metadata": {},
   "outputs": [
    {
     "name": "stdout",
     "output_type": "stream",
     "text": [
      "Month: 8, Day: 13, Year: 2024\n"
     ]
    }
   ],
   "source": [
    "date = condensed_extract['INVOICE_RECEIPT_DATE']\n",
    "date = date.translate(str.maketrans('', '','.,'))\n",
    "reformatted_date = reformat_date(date)\n",
    "\n",
    "\n",
    "month = reformatted_date.month  # 12\n",
    "day = reformatted_date.day      # 25\n",
    "year = reformatted_date.year    # 2024\n",
    "\n",
    "print(f\"Month: {month}, Day: {day}, Year: {year}\")"
   ]
  },
  {
   "cell_type": "code",
   "execution_count": 182,
   "id": "d6083cb9-1c06-431a-9b46-5ff9d7618d25",
   "metadata": {},
   "outputs": [
    {
     "name": "stdout",
     "output_type": "stream",
     "text": [
      "Extracted details: \n",
      "Amount: $165.29\n",
      "Date:\n",
      "\tMonth: 8\n",
      "\tDay: 13\n",
      "\tYear: 2024\n",
      "Category:  Other\n"
     ]
    }
   ],
   "source": [
    "total = condensed_extract['TOTAL']\n",
    "category = parsed_body['results'][0]['outputText']\n",
    "print(\"Extracted details: \")\n",
    "print(f'Amount: {total}\\nDate:\\n\\tMonth: {month}\\n\\tDay: {day}\\n\\tYear: {year}\\nCategory: {category}')"
   ]
  },
  {
   "cell_type": "code",
   "execution_count": 154,
   "id": "60ee4768-2071-44e5-87b2-3ceb9a353761",
   "metadata": {},
   "outputs": [
    {
     "ename": "NameError",
     "evalue": "name 'S' is not defined",
     "output_type": "error",
     "traceback": [
      "\u001b[1;31m---------------------------------------------------------------------------\u001b[0m",
      "\u001b[1;31mNameError\u001b[0m                                 Traceback (most recent call last)",
      "Cell \u001b[1;32mIn[154], line 22\u001b[0m\n\u001b[0;32m     19\u001b[0m     \u001b[38;5;28;01mexcept\u001b[39;00m NoCredentialsError:\n\u001b[0;32m     20\u001b[0m         \u001b[38;5;28mprint\u001b[39m(\u001b[38;5;124m\"\u001b[39m\u001b[38;5;124mAWS credentials not available.\u001b[39m\u001b[38;5;124m\"\u001b[39m)\n\u001b[1;32m---> 22\u001b[0m out \u001b[38;5;241m=\u001b[39m prompt_model_llama(\u001b[43mS\u001b[49m)\n\u001b[0;32m     24\u001b[0m \u001b[38;5;66;03m# Printing the response\u001b[39;00m\n\u001b[0;32m     25\u001b[0m body_content \u001b[38;5;241m=\u001b[39m out\u001b[38;5;241m.\u001b[39mread()\u001b[38;5;241m.\u001b[39mdecode(\u001b[38;5;124m'\u001b[39m\u001b[38;5;124mutf-8\u001b[39m\u001b[38;5;124m'\u001b[39m)\n",
      "\u001b[1;31mNameError\u001b[0m: name 'S' is not defined"
     ]
    }
   ],
   "source": [
    "# Prompting the a llama model\n",
    "\n",
    "def prompt_model_llama(json_derulo):\n",
    "    client = boto3.client('bedrock-runtime')\n",
    "    try:\n",
    "        response = client.invoke_model(\n",
    "            modelId = 'arn:aws:bedrock:us-east-1:418295723137:inference-profile/us.meta.llama3-1-8b-instruct-v1:0',\n",
    "            body = json.dumps({\"prompt\":json_derulo, 'top_p': 1, 'temperature': 1, \"max_gen_len\":20}),\n",
    "            \n",
    "            contentType = 'application/json',\n",
    "            accept = \"application/json\",\n",
    "            \n",
    "        )\n",
    "        s = response\n",
    "        print(response)\n",
    "        return response['body']\n",
    "    except FileNotFoundError:\n",
    "        print(f\"The file {file_name} was not found.\")\n",
    "    except NoCredentialsError:\n",
    "        print(\"AWS credentials not available.\")\n",
    "\n",
    "out = prompt_model_llama(S)\n",
    "\n",
    "# Printing the response\n",
    "body_content = out.read().decode('utf-8')\n",
    "\n",
    "# Parse the JSON content\n",
    "parsed_body = json.loads(body_content)\n",
    "\n",
    "# Print the parsed body\n",
    "print(parsed_body)"
   ]
  },
  {
   "cell_type": "code",
   "execution_count": 43,
   "id": "3c589ae4-a8aa-486b-bd79-6be02ad2c596",
   "metadata": {
    "scrolled": true
   },
   "outputs": [
    {
     "name": "stdout",
     "output_type": "stream",
     "text": [
      "{\"inputText\":\"this is where you place your input text\",\"textGenerationConfig\":{\"maxTokenCount\":8192,\"stopSequences\":[],\"temperature\":0,\"topP\":1}}\n"
     ]
    }
   ],
   "source": [
    "print(\"{\\\"inputText\\\":\\\"this is where you place your input text\\\",\\\"textGenerationConfig\\\":{\\\"maxTokenCount\\\":8192,\\\"stopSequences\\\":[],\\\"temperature\\\":0,\\\"topP\\\":1}}\")"
   ]
  },
  {
   "cell_type": "code",
   "execution_count": 202,
   "id": "b21d632e-33d1-40ef-8f4e-33a05d6560ee",
   "metadata": {},
   "outputs": [],
   "source": [
    "# Analyze a local file\n",
    "\n",
    "def analyze_receipt_local(file_name): \n",
    "    client = boto3.client('textract')\n",
    "    \n",
    "\n",
    "    try:\n",
    "        with open(file_name, \"rb\") as document:\n",
    "            response = client.analyze_expense(\n",
    "                Document={\n",
    "                    'Bytes': document.read()\n",
    "                }\n",
    "        )\n",
    "        s = response\n",
    "        print(\"Success!\")\n",
    "        return s\n",
    "        \n",
    "    except FileNotFoundError:\n",
    "        print(f\"The file {file_name} was not found.\")\n",
    "    except NoCredentialsError:\n",
    "        print(\"AWS credentials not available.\")"
   ]
  },
  {
   "cell_type": "code",
   "execution_count": null,
   "id": "5b120cae-c919-43c1-99b7-2388a92518bd",
   "metadata": {},
   "outputs": [],
   "source": [
    "file_name = 'data/Supplies1.jpg'\n",
    "analyze_receipt_local(\"data/Supplies1.jpg\")"
   ]
  },
  {
   "cell_type": "code",
   "execution_count": 144,
   "id": "9e72d25f-d8ae-4f1d-b320-5cea5623934c",
   "metadata": {},
   "outputs": [
    {
     "name": "stdout",
     "output_type": "stream",
     "text": [
      "{'generation': 'PAYMENT_METHOD:Credit Card\\nPAYMENT_STATUS:Paid\\nPAYMENT_DATE:August 13, 2024\\nPAYMENT_AMOUNT:$165.29\\nPAYMENT_TYPE:Credit Card\\nPAYMENT_METHOD:Credit Card\\nPAYMENT_STATUS:Paid\\nPAYMENT_DATE:August 13, 2024\\nPAYMENT_AMOUNT:$165.29\\nPAYMENT_TYPE:Credit Card\\nPAYMENT_METHOD:Credit Card\\nPAYMENT_STATUS:Paid\\nPAYMENT_DATE:August 13, 2024\\nPAYMENT_AMOUNT:$165.29\\nPAYMENT_TYPE:Credit Card\\nPAYMENT_METHOD:Credit Card\\nPAYMENT_STATUS:Paid\\nPAYMENT_DATE:August 13, 2024\\nPAYMENT_AMOUNT:$165.29\\nPAYMENT_TYPE:Credit Card\\nPAYMENT_METHOD:Credit Card\\nPAYMENT_STATUS:Paid\\nPAYMENT_DATE:August 13, 2024\\nPAYMENT_AMOUNT:$165.29\\nPAYMENT_TYPE:Credit Card\\nPAYMENT_METHOD:Credit Card\\nPAYMENT_STATUS:Paid\\nPAYMENT_DATE:August 13, 2024\\nPAYMENT_AMOUNT:$165.29\\nPAYMENT_TYPE:Credit Card\\nPAYMENT_METHOD:Credit Card\\nPAYMENT_STATUS:Paid\\nPAYMENT_DATE:August 13, 2024\\nPAYMENT_AMOUNT:$165.29\\nPAYMENT_TYPE:Credit Card\\nPAYMENT_METHOD:Credit Card\\nPAYMENT_STATUS:Paid\\nPAYMENT_DATE:August 13, 2024\\nPAYMENT_AMOUNT:$165.29\\nPAYMENT_TYPE:Credit Card\\nPAYMENT_METHOD:Credit Card\\nPAYMENT_STATUS:Paid\\nPAYMENT_DATE:August 13, 2024\\nPAYMENT_AMOUNT:$165.29\\nPAYMENT_TYPE:Credit Card\\nPAYMENT_METHOD:Credit Card\\nPAYMENT_STATUS:Paid\\nPAYMENT_DATE:August 13, 2024\\nPAYMENT_AMOUNT:$165.29\\nPAYMENT_TYPE:Credit Card\\nPAYMENT_METHOD:Credit Card\\nPAYMENT_STATUS:Paid\\nPAYMENT_DATE:August 13, 2024\\nPAYMENT_AMOUNT:$165.29\\nPAYMENT_TYPE:Credit Card\\nPAYMENT_METHOD:Credit Card\\nPAYMENT_STATUS:Paid\\nPAYMENT_DATE:August 13, 2024\\nPAYMENT_AMOUNT:$165.29\\nPAYMENT_TYPE:Credit Card\\nPAYMENT_METHOD:Credit Card\\nPAYMENT_STATUS:Paid\\nPAYMENT_DATE:August 13, 2024\\nPAYMENT_AMOUNT:$165.29', 'prompt_token_count': 253, 'generation_token_count': 512, 'stop_reason': 'length'}\n"
     ]
    }
   ],
   "source": [
    "body_content = out.read().decode('utf-8')\n",
    "\n",
    "# Parse the JSON content\n",
    "parsed_body = json.loads(body_content)\n",
    "\n",
    "# Print the parsed body\n",
    "print(parsed_body)"
   ]
  },
  {
   "cell_type": "code",
   "execution_count": 3,
   "id": "e98d8dee-311c-4fca-aded-660c4ccf6db5",
   "metadata": {},
   "outputs": [],
   "source": [
    "import os\n",
    "from pdf2image import convert_from_path\n",
    "from PIL import Image\n",
    "\n",
    "def convert_to_jpg_standardize_dpi(input_folder, output_folder, dpi=(300, 300)):\n",
    "    os.makedirs(output_folder, exist_ok=True)\n",
    "    j = 0\n",
    "\n",
    "    for filename in os.listdir(input_folder):\n",
    "        path = os.path.join(input_folder, filename)\n",
    "        \n",
    "        if filename.lower().endswith(\".pdf\"):\n",
    "            # Convert PDF to a list of images (one image per page)\n",
    "            pages = convert_from_path(path, dpi=dpi[0])  # DPI is passed to pdf2image\n",
    "\n",
    "            # Combine all pages into a single image\n",
    "            widths, heights = zip(*(page.size for page in pages))\n",
    "            total_width = max(widths)\n",
    "            total_height = sum(heights)\n",
    "            \n",
    "            combined_image = Image.new(\"RGB\", (total_width, total_height))\n",
    "            y_offset = 0\n",
    "\n",
    "            for page in pages:\n",
    "                combined_image.paste(page, (0, y_offset))\n",
    "                y_offset += page.size[1]\n",
    "\n",
    "            # Save the combined image\n",
    "            output_filename = os.path.join(output_folder, f\"{os.path.splitext(filename)[0]}.jpg\")\n",
    "            combined_image.save(output_filename, \"JPEG\", dpi=dpi)\n",
    "            j += 1\n",
    "\n",
    "        else:\n",
    "            # For non-PDF images, save them directly with standardized DPI\n",
    "            image = Image.open(path)\n",
    "            output_path = os.path.join(output_folder, filename)\n",
    "            image.save(output_path, \"JPEG\", dpi=dpi)\n",
    "            j += 1\n",
    "\n",
    "    print(f\"Saved {j} images in {output_folder}\")"
   ]
  },
  {
   "cell_type": "code",
   "execution_count": 2,
   "id": "716b5609-9595-4956-9393-65eb9f5a12ca",
   "metadata": {},
   "outputs": [
    {
     "name": "stdout",
     "output_type": "stream",
     "text": [
      "Collecting pdf2image\n",
      "  Using cached pdf2image-1.17.0-py3-none-any.whl.metadata (6.2 kB)\n",
      "Requirement already satisfied: pillow in c:\\users\\chris nevares\\documents\\github\\receiptprocessing\\receipts\\lib\\site-packages (from pdf2image) (11.0.0)\n",
      "Using cached pdf2image-1.17.0-py3-none-any.whl (11 kB)\n",
      "Installing collected packages: pdf2image\n",
      "Successfully installed pdf2image-1.17.0\n",
      "Note: you may need to restart the kernel to use updated packages.\n"
     ]
    }
   ],
   "source": [
    "pip install pdf2image"
   ]
  },
  {
   "cell_type": "code",
   "execution_count": 8,
   "id": "7cb6a49f-0415-4124-aff9-55915700cfe5",
   "metadata": {},
   "outputs": [
    {
     "name": "stdout",
     "output_type": "stream",
     "text": [
      "Saved 3 images in data\n"
     ]
    }
   ],
   "source": [
    "convert_to_jpg_standardize_dpi('data/pdf/', 'data')"
   ]
  },
  {
   "cell_type": "code",
   "execution_count": null,
   "id": "a3a9329f-a526-4593-8046-e85184ab331f",
   "metadata": {},
   "outputs": [],
   "source": []
  }
 ],
 "metadata": {
  "kernelspec": {
   "display_name": "Python 3 (ipykernel)",
   "language": "python",
   "name": "python3"
  },
  "language_info": {
   "codemirror_mode": {
    "name": "ipython",
    "version": 3
   },
   "file_extension": ".py",
   "mimetype": "text/x-python",
   "name": "python",
   "nbconvert_exporter": "python",
   "pygments_lexer": "ipython3",
   "version": "3.12.8"
  }
 },
 "nbformat": 4,
 "nbformat_minor": 5
}
