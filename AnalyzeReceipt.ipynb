{
 "cells": [
  {
   "cell_type": "code",
   "execution_count": 1,
   "id": "b97ad073-cdfc-4d60-8c39-21a7bf9f53ea",
   "metadata": {},
   "outputs": [],
   "source": [
    "import logging\n",
    "import boto3\n",
    "from botocore.exceptions import ClientError\n",
    "from botocore.exceptions import NoCredentialsError\n",
    "import os\n"
   ]
  },
  {
   "cell_type": "code",
   "execution_count": 55,
   "id": "03c38ac3-274b-49b4-b2b8-c711748570b3",
   "metadata": {},
   "outputs": [],
   "source": [
    "\n",
    "\n",
    "def upload_file_to_s3(file_name, bucket_name, object_name=None):\n",
    "    \"\"\"\n",
    "    Uploads a file to an S3 bucket.\n",
    "    \n",
    "    :param file_name: Path to the file to upload\n",
    "    :param bucket_name: Name of the S3 bucket\n",
    "    :param object_name: S3 object name. If not specified, file_name is used\n",
    "    :return: a string of the response\n",
    "    \"\"\"\n",
    "    # If S3 object_name was not specified, use file_name\n",
    "    if object_name is None:\n",
    "        object_name = file_name\n",
    "\n",
    "    # Initialize the S3 client\n",
    "    s3 = boto3.client('s3')\n",
    "\n",
    "    \n",
    "    try:\n",
    "        with open(file_name, \"rb\") as file_data: # Uploading the FILE CONTENTS not the filepath\n",
    "            response = s3.put_object(\n",
    "                Body=file_data,\n",
    "                Bucket=bucket_name,\n",
    "                Key=object_name,                # This is the what the file will be called in S3\n",
    "            )\n",
    "        s = response\n",
    "        print(response)\n",
    "        return s\n",
    "    except FileNotFoundError:\n",
    "        print(f\"The file {file_name} was not found.\")\n",
    "    except NoCredentialsError:\n",
    "        print(\"AWS credentials not available.\")\n",
    "\n"
   ]
  },
  {
   "cell_type": "code",
   "execution_count": 56,
   "id": "9d85aebe-0a22-4eb6-a4d7-c383d1bb14c0",
   "metadata": {},
   "outputs": [
    {
     "name": "stdout",
     "output_type": "stream",
     "text": [
      "{'ResponseMetadata': {'RequestId': 'M8B731H3N9WJV9N5', 'HostId': '/3wpVWxjwlxMIFCb3oYEE/lTPkbo2CeodY+rlD9bTiG9/YHoISw4NvAQDZygKwQ5nL3KQnUqiC1+Q7S3fs1MSKzQVRc5J01e', 'HTTPStatusCode': 200, 'HTTPHeaders': {'x-amz-id-2': '/3wpVWxjwlxMIFCb3oYEE/lTPkbo2CeodY+rlD9bTiG9/YHoISw4NvAQDZygKwQ5nL3KQnUqiC1+Q7S3fs1MSKzQVRc5J01e', 'x-amz-request-id': 'M8B731H3N9WJV9N5', 'date': 'Tue, 24 Dec 2024 21:00:24 GMT', 'x-amz-server-side-encryption': 'AES256', 'etag': '\"276a1a0737b038e64d9324f56ae0fdcc\"', 'content-length': '0', 'server': 'AmazonS3'}, 'RetryAttempts': 0}, 'ETag': '\"276a1a0737b038e64d9324f56ae0fdcc\"', 'ServerSideEncryption': 'AES256'}\n"
     ]
    }
   ],
   "source": [
    "# Use your own bucket and file name\n",
    "bucket_name = \"test-bucket-cnevares-2024\"\n",
    "file_name = \"data/Supplies1.jpg\"\n",
    "object_name = file_name.split('/')[1]\n",
    "\n",
    "s = upload_file_to_s3(file_name, bucket_name, object_name=object_name)"
   ]
  },
  {
   "cell_type": "code",
   "execution_count": 62,
   "id": "331af451-f691-4275-b130-24d6ee0b2bd4",
   "metadata": {},
   "outputs": [],
   "source": [
    "def analyze_receipt(bucket_name, object_name):\n",
    "    \"\"\"\n",
    "    :param bucket_name: Name of the S3 bucket\n",
    "    :param object_name: S3 object name\n",
    "    :return: string of the response\n",
    "    \"\"\"\n",
    "    \n",
    "    client = boto3.client('textract')\n",
    "\n",
    "    try:\n",
    "        response = client.analyze_expense(\n",
    "            \n",
    "            Document = {\n",
    "                \"S3Object\": {\n",
    "                    \"Bucket\": bucket_name,\n",
    "                    \"Name\": object_name\n",
    "                }\n",
    "            }\n",
    "        )\n",
    "        s = response\n",
    "        print(\"Success!\")\n",
    "        return s\n",
    "        \n",
    "    except FileNotFoundError:\n",
    "        print(f\"The file {file_name} was not found.\")\n",
    "    except NoCredentialsError:\n",
    "        print(\"AWS credentials not available.\")"
   ]
  },
  {
   "cell_type": "code",
   "execution_count": 63,
   "id": "67a5a837-c60e-4a7d-8ef1-7a73a89daa6d",
   "metadata": {},
   "outputs": [
    {
     "name": "stdout",
     "output_type": "stream",
     "text": [
      "Success!\n"
     ]
    }
   ],
   "source": [
    "s = analyze_receipt(bucket_name, object_name)"
   ]
  },
  {
   "cell_type": "code",
   "execution_count": 98,
   "id": "30a4f494-0ab5-4e08-a843-8f85e835fe72",
   "metadata": {},
   "outputs": [
    {
     "name": "stdout",
     "output_type": "stream",
     "text": [
      "ITEM\n",
      "1 of: Elgato Wave: 3 Premium Studio\n",
      "Free Mixer Quality USB Condenser Microphone for Streaming, Podcast, Gaming and Home Office,\n",
      "Sold by: Amazon.com Software, Sound Effect Plugins, Anti-Distortion, Plug 'n Play, for Mac, PC\n",
      "Services, Inc\n",
      "Supplied by: Other\n"
     ]
    }
   ],
   "source": [
    "# Retrieving the FIRST itemization\n",
    "print(s['ExpenseDocuments'][0]['LineItemGroups'][0]['LineItems'][0]['LineItemExpenseFields'][0]['Type']['Text'])\n",
    "print(s['ExpenseDocuments'][0]['LineItemGroups'][0]['LineItems'][0]['LineItemExpenseFields'][0]['ValueDetection']['Text'])"
   ]
  },
  {
   "cell_type": "code",
   "execution_count": 99,
   "id": "08176a3e-b658-470c-a961-4b8d8f6e58aa",
   "metadata": {},
   "outputs": [
    {
     "name": "stdout",
     "output_type": "stream",
     "text": [
      "ADDRESS: Christopher S, Nevares\n",
      "17035 W VALLEY HWY\n",
      "SEATTLE, WA 98188-5519\n",
      "United States\n",
      "\n",
      "STREET: 17035 W VALLEY HWY\n",
      "\n",
      "CITY: SEATTLE,\n",
      "\n",
      "STATE: WA\n",
      "\n",
      "ZIP_CODE: 98188-5519\n",
      "\n",
      "COUNTRY: United States\n",
      "\n",
      "NAME: Christopher S, Nevares\n",
      "\n",
      "ADDRESS_BLOCK: 17035 W VALLEY HWY\n",
      "SEATTLE, WA 98188-5519\n",
      "United States\n",
      "\n",
      "ADDRESS: Christopher S Nevares\n",
      "10812 9TH ST E\n",
      "EDGEWOOD, WA 98372-6607\n",
      "United States\n",
      "\n",
      "STREET: 10812 9TH ST E\n",
      "\n",
      "CITY: EDGEWOOD,\n",
      "\n",
      "STATE: WA\n",
      "\n",
      "ZIP_CODE: 98372-6607\n",
      "\n",
      "COUNTRY: United States\n",
      "\n",
      "NAME: Christopher S Nevares\n",
      "\n",
      "ADDRESS_BLOCK: 10812 9TH ST E\n",
      "EDGEWOOD, WA 98372-6607\n",
      "United States\n",
      "\n",
      "NAME: Amazon.com Inc.\n",
      "\n",
      "INVOICE_RECEIPT_DATE: 8/13/24.\n",
      "\n",
      "INVOICE_RECEIPT_ID: 112-9546U10-U268240\n",
      "\n",
      "INVOICE_RECEIPT_ID: #112-9546010-0268240\n",
      "\n",
      "INVOICE_RECEIPT_ID: 112-9546010-0268240\n",
      "\n",
      "ORDER_DATE: August 13, 2024\n",
      "\n",
      "RECEIVER_ADDRESS: Christopher S, Nevares\n",
      "17035 W VALLEY HWY\n",
      "SEATTLE, WA 98188-5519\n",
      "United States\n",
      "\n",
      "RECEIVER_ADDRESS: Christopher S Nevares\n",
      "10812 9TH ST E\n",
      "EDGEWOOD, WA 98372-6607\n",
      "United States\n",
      "\n",
      "RECEIVER_NAME: Christopher S Nevares\n",
      "\n",
      "RECEIVER_NAME: Christopher S, Nevares\n",
      "\n",
      "SHIPPING_HANDLING_CHARGE: $0.00\n",
      "\n",
      "SUBTOTAL: $149.99\n",
      "\n",
      "SUBTOTAL: $149.99\n",
      "\n",
      "TAX: $15.30\n",
      "\n",
      "TOTAL: $165.29\n",
      "\n",
      "TOTAL: $165.29\n",
      "\n",
      "VENDOR_NAME: Amazon.com Inc.\n",
      "\n",
      "OTHER: Amazon.com\n",
      "Services, Inc\n",
      "\n",
      "OTHER: Other\n",
      "\n",
      "OTHER: New\n",
      "\n",
      "OTHER: FREE Prime Delivery\n",
      "\n",
      "OTHER: Payment information\n",
      "Payment Method:\n",
      "Item(s) Subtotal: $149.99\n",
      "Visa ending in 4050\n",
      "Shipping & Handling: $0.00\n",
      "Billing address\n",
      "Total before tax: $149.99\n",
      "Christopher S Nevares\n",
      "Estimated tax to be collected: $15.30\n",
      "10812 9TH ST E\n",
      "EDGEWOOD, WA 98372-6607\n",
      "Grand Total: $165.29\n",
      "United States\n",
      "\n",
      "OTHER: Visa ending in 4050\n",
      "\n",
      "\n"
     ]
    }
   ],
   "source": [
    "## The Fields detected and their values\n",
    "for i in range(len(s['ExpenseDocuments'][0]['SummaryFields'])):\n",
    "    print(s['ExpenseDocuments'][0]['SummaryFields'][i]['Type']['Text'] +\": \" + s['ExpenseDocuments'][0]['SummaryFields'][i]['ValueDetection']['Text'] )\n",
    "    print()\n",
    "print()"
   ]
  },
  {
   "cell_type": "code",
   "execution_count": 106,
   "id": "b21d632e-33d1-40ef-8f4e-33a05d6560ee",
   "metadata": {},
   "outputs": [],
   "source": [
    "# Analyze a local file\n",
    "\n",
    "def analyze_receipt_local(file_name): \n",
    "    client = boto3.client('textract')\n",
    "    \n",
    "\n",
    "    try:\n",
    "        with open(file_name, \"rb\") as document:\n",
    "            response = client.analyze_expense(\n",
    "                Document={\n",
    "                    'Bytes': document.read()\n",
    "                }\n",
    "        )\n",
    "        s = response\n",
    "        print(\"Success!\")\n",
    "        return s\n",
    "        \n",
    "    except FileNotFoundError:\n",
    "        print(f\"The file {file_name} was not found.\")\n",
    "    except NoCredentialsError:\n",
    "        print(\"AWS credentials not available.\")"
   ]
  },
  {
   "cell_type": "code",
   "execution_count": null,
   "id": "5b120cae-c919-43c1-99b7-2388a92518bd",
   "metadata": {},
   "outputs": [],
   "source": [
    "file_name = 'data/Supplies1.jpg'\n",
    "analyze_receipt_local(\"data/Supplies1.jpg\")"
   ]
  },
  {
   "cell_type": "code",
   "execution_count": 108,
   "id": "ddd14fc5-84c8-4bd4-bd73-9268e556af07",
   "metadata": {},
   "outputs": [
    {
     "name": "stdout",
     "output_type": "stream",
     "text": [
      "Note: you may need to restart the kernel to use updated packages.\n"
     ]
    }
   ],
   "source": [
    "pip freeze > requirements.txt"
   ]
  },
  {
   "cell_type": "code",
   "execution_count": null,
   "id": "bf0bb882-e16a-40c2-be9b-b32aec630951",
   "metadata": {},
   "outputs": [],
   "source": []
  }
 ],
 "metadata": {
  "kernelspec": {
   "display_name": "Python 3 (ipykernel)",
   "language": "python",
   "name": "python3"
  },
  "language_info": {
   "codemirror_mode": {
    "name": "ipython",
    "version": 3
   },
   "file_extension": ".py",
   "mimetype": "text/x-python",
   "name": "python",
   "nbconvert_exporter": "python",
   "pygments_lexer": "ipython3",
   "version": "3.10.11"
  }
 },
 "nbformat": 4,
 "nbformat_minor": 5
}
