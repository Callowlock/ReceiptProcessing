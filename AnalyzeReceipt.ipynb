{
 "cells": [
  {
   "cell_type": "markdown",
   "id": "adea8a0e-e411-4855-9d58-3e6b9c1ce831",
   "metadata": {},
   "source": []
  },
  {
   "cell_type": "code",
   "execution_count": 9,
   "id": "b97ad073-cdfc-4d60-8c39-21a7bf9f53ea",
   "metadata": {},
   "outputs": [],
   "source": [
    "import logging\n",
    "import boto3\n",
    "from botocore.exceptions import ClientError\n",
    "from botocore.exceptions import NoCredentialsError\n",
    "import os\n"
   ]
  },
  {
   "cell_type": "code",
   "execution_count": 11,
   "id": "03c38ac3-274b-49b4-b2b8-c711748570b3",
   "metadata": {},
   "outputs": [],
   "source": [
    "\n",
    "\n",
    "def upload_file_to_s3(file_name, bucket_name, object_name=None):\n",
    "    \"\"\"\n",
    "    Uploads a file to an S3 bucket.\n",
    "    \n",
    "    :param file_name: Path to the file to upload\n",
    "    :param bucket_name: Name of the S3 bucket\n",
    "    :param object_name: S3 object name. If not specified, file_name is used\n",
    "    :return: a string of the response\n",
    "    \"\"\"\n",
    "    # If S3 object_name was not specified, use file_name\n",
    "    if object_name is None:\n",
    "        object_name = file_name\n",
    "\n",
    "    # Initialize the S3 client\n",
    "    s3 = boto3.client('s3')\n",
    "\n",
    "    \n",
    "    try:\n",
    "        with open(file_name, \"rb\") as file_data: # Uploading the FILE CONTENTS not the filepath\n",
    "            response = s3.put_object(\n",
    "                Body=file_data,\n",
    "                Bucket=bucket_name,\n",
    "                Key=object_name,                # This is the what the file will be called in S3\n",
    "            )\n",
    "        s = response\n",
    "        print(response)\n",
    "        return s\n",
    "    except FileNotFoundError:\n",
    "        print(f\"The file {file_name} was not found.\")\n",
    "    except NoCredentialsError:\n",
    "        print(\"AWS credentials not available.\")\n",
    "\n"
   ]
  },
  {
   "cell_type": "code",
   "execution_count": 13,
   "id": "5ff1a0f4-e610-403c-a6d1-d06f10d59744",
   "metadata": {},
   "outputs": [],
   "source": [
    "# Use your own bucket and file name\n",
    "bucket_name = \"test-bucket-cnevares-2024\"\n",
    "file_name = \"data/Supplies1.jpg\"\n",
    "object_name = file_name.split('/')[1]\n"
   ]
  },
  {
   "cell_type": "code",
   "execution_count": 56,
   "id": "9d85aebe-0a22-4eb6-a4d7-c383d1bb14c0",
   "metadata": {},
   "outputs": [
    {
     "name": "stdout",
     "output_type": "stream",
     "text": [
      "{'ResponseMetadata': {'RequestId': 'M8B731H3N9WJV9N5', 'HostId': '/3wpVWxjwlxMIFCb3oYEE/lTPkbo2CeodY+rlD9bTiG9/YHoISw4NvAQDZygKwQ5nL3KQnUqiC1+Q7S3fs1MSKzQVRc5J01e', 'HTTPStatusCode': 200, 'HTTPHeaders': {'x-amz-id-2': '/3wpVWxjwlxMIFCb3oYEE/lTPkbo2CeodY+rlD9bTiG9/YHoISw4NvAQDZygKwQ5nL3KQnUqiC1+Q7S3fs1MSKzQVRc5J01e', 'x-amz-request-id': 'M8B731H3N9WJV9N5', 'date': 'Tue, 24 Dec 2024 21:00:24 GMT', 'x-amz-server-side-encryption': 'AES256', 'etag': '\"276a1a0737b038e64d9324f56ae0fdcc\"', 'content-length': '0', 'server': 'AmazonS3'}, 'RetryAttempts': 0}, 'ETag': '\"276a1a0737b038e64d9324f56ae0fdcc\"', 'ServerSideEncryption': 'AES256'}\n"
     ]
    }
   ],
   "source": [
    "s = upload_file_to_s3(file_name, bucket_name, object_name=object_name)"
   ]
  },
  {
   "cell_type": "code",
   "execution_count": 14,
   "id": "331af451-f691-4275-b130-24d6ee0b2bd4",
   "metadata": {},
   "outputs": [],
   "source": [
    "def analyze_receipt(bucket_name, object_name):\n",
    "    \"\"\"\n",
    "    :param bucket_name: Name of the S3 bucket\n",
    "    :param object_name: S3 object name\n",
    "    :return: string of the response\n",
    "    \"\"\"\n",
    "    \n",
    "    client = boto3.client('textract')\n",
    "\n",
    "    try:\n",
    "        response = client.analyze_expense(\n",
    "            \n",
    "            Document = {\n",
    "                \"S3Object\": {\n",
    "                    \"Bucket\": bucket_name,\n",
    "                    \"Name\": object_name\n",
    "                }\n",
    "            }\n",
    "        )\n",
    "        s = response\n",
    "        print(\"Success!\")\n",
    "        return s\n",
    "        \n",
    "    except FileNotFoundError:\n",
    "        print(f\"The file {file_name} was not found.\")\n",
    "    except NoCredentialsError:\n",
    "        print(\"AWS credentials not available.\")"
   ]
  },
  {
   "cell_type": "code",
   "execution_count": 15,
   "id": "67a5a837-c60e-4a7d-8ef1-7a73a89daa6d",
   "metadata": {},
   "outputs": [
    {
     "name": "stdout",
     "output_type": "stream",
     "text": [
      "Success!\n"
     ]
    }
   ],
   "source": [
    "s = analyze_receipt(bucket_name, object_name)"
   ]
  },
  {
   "cell_type": "code",
   "execution_count": 16,
   "id": "30a4f494-0ab5-4e08-a843-8f85e835fe72",
   "metadata": {},
   "outputs": [
    {
     "name": "stdout",
     "output_type": "stream",
     "text": [
      "ITEM\n",
      "1 of: Elgato Wave: 3 Premium Studio\n",
      "Free Mixer Quality USB Condenser Microphone for Streaming, Podcast, Gaming and Home Office,\n",
      "Sold by: Amazon.com Software, Sound Effect Plugins, Anti-Distortion, Plug 'n Play, for Mac, PC\n",
      "Services, Inc\n",
      "Supplied by: Other\n"
     ]
    }
   ],
   "source": [
    "# Retrieving the FIRST itemization\n",
    "print(s['ExpenseDocuments'][0]['LineItemGroups'][0]['LineItems'][0]['LineItemExpenseFields'][0]['Type']['Text'])\n",
    "print(s['ExpenseDocuments'][0]['LineItemGroups'][0]['LineItems'][0]['LineItemExpenseFields'][0]['ValueDetection']['Text'])"
   ]
  },
  {
   "cell_type": "code",
   "execution_count": 99,
   "id": "08176a3e-b658-470c-a961-4b8d8f6e58aa",
   "metadata": {},
   "outputs": [
    {
     "name": "stdout",
     "output_type": "stream",
     "text": [
      "ADDRESS: Christopher S, Nevares\n",
      "17035 W VALLEY HWY\n",
      "SEATTLE, WA 98188-5519\n",
      "United States\n",
      "\n",
      "STREET: 17035 W VALLEY HWY\n",
      "\n",
      "CITY: SEATTLE,\n",
      "\n",
      "STATE: WA\n",
      "\n",
      "ZIP_CODE: 98188-5519\n",
      "\n",
      "COUNTRY: United States\n",
      "\n",
      "NAME: Christopher S, Nevares\n",
      "\n",
      "ADDRESS_BLOCK: 17035 W VALLEY HWY\n",
      "SEATTLE, WA 98188-5519\n",
      "United States\n",
      "\n",
      "ADDRESS: Christopher S Nevares\n",
      "10812 9TH ST E\n",
      "EDGEWOOD, WA 98372-6607\n",
      "United States\n",
      "\n",
      "STREET: 10812 9TH ST E\n",
      "\n",
      "CITY: EDGEWOOD,\n",
      "\n",
      "STATE: WA\n",
      "\n",
      "ZIP_CODE: 98372-6607\n",
      "\n",
      "COUNTRY: United States\n",
      "\n",
      "NAME: Christopher S Nevares\n",
      "\n",
      "ADDRESS_BLOCK: 10812 9TH ST E\n",
      "EDGEWOOD, WA 98372-6607\n",
      "United States\n",
      "\n",
      "NAME: Amazon.com Inc.\n",
      "\n",
      "INVOICE_RECEIPT_DATE: 8/13/24.\n",
      "\n",
      "INVOICE_RECEIPT_ID: 112-9546U10-U268240\n",
      "\n",
      "INVOICE_RECEIPT_ID: #112-9546010-0268240\n",
      "\n",
      "INVOICE_RECEIPT_ID: 112-9546010-0268240\n",
      "\n",
      "ORDER_DATE: August 13, 2024\n",
      "\n",
      "RECEIVER_ADDRESS: Christopher S, Nevares\n",
      "17035 W VALLEY HWY\n",
      "SEATTLE, WA 98188-5519\n",
      "United States\n",
      "\n",
      "RECEIVER_ADDRESS: Christopher S Nevares\n",
      "10812 9TH ST E\n",
      "EDGEWOOD, WA 98372-6607\n",
      "United States\n",
      "\n",
      "RECEIVER_NAME: Christopher S Nevares\n",
      "\n",
      "RECEIVER_NAME: Christopher S, Nevares\n",
      "\n",
      "SHIPPING_HANDLING_CHARGE: $0.00\n",
      "\n",
      "SUBTOTAL: $149.99\n",
      "\n",
      "SUBTOTAL: $149.99\n",
      "\n",
      "TAX: $15.30\n",
      "\n",
      "TOTAL: $165.29\n",
      "\n",
      "TOTAL: $165.29\n",
      "\n",
      "VENDOR_NAME: Amazon.com Inc.\n",
      "\n",
      "OTHER: Amazon.com\n",
      "Services, Inc\n",
      "\n",
      "OTHER: Other\n",
      "\n",
      "OTHER: New\n",
      "\n",
      "OTHER: FREE Prime Delivery\n",
      "\n",
      "OTHER: Payment information\n",
      "Payment Method:\n",
      "Item(s) Subtotal: $149.99\n",
      "Visa ending in 4050\n",
      "Shipping & Handling: $0.00\n",
      "Billing address\n",
      "Total before tax: $149.99\n",
      "Christopher S Nevares\n",
      "Estimated tax to be collected: $15.30\n",
      "10812 9TH ST E\n",
      "EDGEWOOD, WA 98372-6607\n",
      "Grand Total: $165.29\n",
      "United States\n",
      "\n",
      "OTHER: Visa ending in 4050\n",
      "\n",
      "\n"
     ]
    }
   ],
   "source": [
    "## The Fields detected and their values\n",
    "for i in range(len(s['ExpenseDocuments'][0]['SummaryFields'])):\n",
    "    print(s['ExpenseDocuments'][0]['SummaryFields'][i]['Type']['Text'] +\": \" + s['ExpenseDocuments'][0]['SummaryFields'][i]['ValueDetection']['Text'] )\n",
    "    print()\n",
    "print()"
   ]
  },
  {
   "cell_type": "code",
   "execution_count": 470,
   "id": "4ef545c7-2d76-456a-8f72-e758719ca0d5",
   "metadata": {},
   "outputs": [],
   "source": [
    "# Condensing response into only useful(ish) values\n",
    "\n",
    "D = {}\n",
    "D['prompt'] = 'You are an expert in receipt categorization. Categorize the following receipt into one of these categories: Meals, Supplies, Safety, Travel, Lodging, or Other. \\\n",
    "\\nRespond in the format: \"Category: <category>.\" \\\n",
    "\\nDo not include explanations, steps, or any additional text.\\nReceipt:'\n",
    "exclude = [\"ADDRESS\", \"ADDRESS_BLOCK\", \"RECEIVER_ADDRESS\"]\n",
    "for i in range(len(s['ExpenseDocuments'][0]['SummaryFields'])):\n",
    "    \n",
    "    key = s['ExpenseDocuments'][0]['SummaryFields'][i]['Type']['Text']\n",
    "    value = s['ExpenseDocuments'][0]['SummaryFields'][i]['ValueDetection']['Text']\n",
    "    if key not in D.keys() and key not in exclude:\n",
    "        D[key] = value\n",
    "\n",
    "D['items'] = {}\n",
    "\n",
    "for j in range(len(s['ExpenseDocuments'][0]['LineItemGroups'][0]['LineItems'][0]['LineItemExpenseFields'])):\n",
    "    value = s['ExpenseDocuments'][0]['LineItemGroups'][0]['LineItems'][0]['LineItemExpenseFields'][j]['ValueDetection']['Text']\n",
    "    D['items']['item'+str(j)] = value"
   ]
  },
  {
   "cell_type": "code",
   "execution_count": 471,
   "id": "468afdd3-6fc2-41d0-8c69-391434e0856c",
   "metadata": {},
   "outputs": [
    {
     "name": "stdout",
     "output_type": "stream",
     "text": [
      "ITEM\n",
      "1 of: Elgato Wave: 3 Premium Studio\n",
      "Free Mixer Quality USB Condenser Microphone for Streaming, Podcast, Gaming and Home Office,\n",
      "Sold by: Amazon.com Software, Sound Effect Plugins, Anti-Distortion, Plug 'n Play, for Mac, PC\n",
      "Services, Inc\n",
      "Supplied by: Other\n"
     ]
    }
   ],
   "source": [
    "# Retrieving the FIRST itemization\n",
    "print(s['ExpenseDocuments'][0]['LineItemGroups'][0]['LineItems'][0]['LineItemExpenseFields'][0]['Type']['Text'])\n",
    "print(s['ExpenseDocuments'][0]['LineItemGroups'][0]['LineItems'][0]['LineItemExpenseFields'][0]['ValueDetection']['Text'])"
   ]
  },
  {
   "cell_type": "code",
   "execution_count": 472,
   "id": "a65ff7ee-b41b-4edc-9c35-efee4e94c33a",
   "metadata": {},
   "outputs": [],
   "source": [
    "# formatting for prompt\n",
    "\n",
    "S = \"\"\n",
    "for key in D.keys():\n",
    "    if key == 'items':\n",
    "        S+=key +\":\\n\"\n",
    "        for k in D['items'].keys():\n",
    "            S+= k + \":\" + D['items'][k].replace('\\n',' ') +'\\n'\n",
    "    else:\n",
    "        S += key +\":\"+D[key]+\"\\n\"\n",
    "S+=\"Category:\""
   ]
  },
  {
   "cell_type": "code",
   "execution_count": 473,
   "id": "b1f74e42-f76c-4ade-ba89-2c499586a519",
   "metadata": {},
   "outputs": [
    {
     "data": {
      "text/plain": [
       "'prompt:You are an expert in receipt categorization. Categorize the following receipt into one of these categories: Meals, Supplies, Safety, Travel, Lodging, or Other. \\nRespond in the format: \"Answer: <category>.\" \\nDo not include explanations, steps, or any additional text.\\nReceipt:\\nSTREET:17035 W VALLEY HWY\\nCITY:SEATTLE,\\nSTATE:WA\\nZIP_CODE:98188-5519\\nCOUNTRY:United States\\nNAME:Christopher S, Nevares\\nINVOICE_RECEIPT_DATE:8/13/24.\\nINVOICE_RECEIPT_ID:112-9546U10-U268240\\nORDER_DATE:August 13, 2024\\nRECEIVER_NAME:Christopher S Nevares\\nSHIPPING_HANDLING_CHARGE:$0.00\\nSUBTOTAL:$149.99\\nTAX:$15.30\\nTOTAL:$165.29\\nVENDOR_NAME:Amazon.com Inc.\\nOTHER:Amazon.com\\nServices, Inc\\nitems:\\nitem0:1 of: Elgato Wave: 3 Premium Studio Free Mixer Quality USB Condenser Microphone for Streaming, Podcast, Gaming and Home Office, Sold by: Amazon.com Software, Sound Effect Plugins, Anti-Distortion, Plug \\'n Play, for Mac, PC Services, Inc Supplied by: Other\\nitem1:$149.99\\nitem2:1 Free of: Mixer Elgato Wave: 3 Premium Studio Quality USB Condenser Microphone for Streaming, Podcast, Gaming and Home Office, $149.99 Sold by: Amazon.com Software, Sound Effect Plugins, Anti-Distortion, Plug \\'n Play, for Mac, PC Services, Inc Supplied by: Other\\nCategory:'"
      ]
     },
     "execution_count": 473,
     "metadata": {},
     "output_type": "execute_result"
    }
   ],
   "source": [
    "S"
   ]
  },
  {
   "cell_type": "code",
   "execution_count": 479,
   "id": "60ee4768-2071-44e5-87b2-3ceb9a353761",
   "metadata": {},
   "outputs": [],
   "source": [
    "# Prompting the model\n",
    "\n",
    "def prompt_model(json_derulo):\n",
    "    client = boto3.client('bedrock-runtime')\n",
    "    try:\n",
    "        response = client.invoke_model(\n",
    "            modelId = 'arn:aws:bedrock:us-east-1:418295723137:inference-profile/us.meta.llama3-1-8b-instruct-v1:0',\n",
    "            body = json.dumps({\"prompt\":json_derulo, 'top_p': 1, 'temperature': 1, \"max_gen_len\":5}),\n",
    "            \n",
    "            contentType = 'application/json',\n",
    "            accept = \"application/json\",\n",
    "            \n",
    "        )\n",
    "        s = response\n",
    "        print(response)\n",
    "        return response['body']\n",
    "    except FileNotFoundError:\n",
    "        print(f\"The file {file_name} was not found.\")\n",
    "    except NoCredentialsError:\n",
    "        print(\"AWS credentials not available.\")"
   ]
  },
  {
   "cell_type": "code",
   "execution_count": 480,
   "id": "34292118-39dc-4bc5-8b97-a8a47c6c3fb1",
   "metadata": {},
   "outputs": [
    {
     "name": "stdout",
     "output_type": "stream",
     "text": [
      "{'ResponseMetadata': {'RequestId': '99339dee-d1fa-4a0e-9bfd-bc7d015473fb', 'HTTPStatusCode': 200, 'HTTPHeaders': {'date': 'Wed, 25 Dec 2024 03:34:46 GMT', 'content-type': 'application/json', 'content-length': '114', 'connection': 'keep-alive', 'x-amzn-requestid': '99339dee-d1fa-4a0e-9bfd-bc7d015473fb', 'x-amzn-bedrock-invocation-latency': '454', 'x-amzn-bedrock-output-token-count': '5', 'x-amzn-bedrock-input-token-count': '357'}, 'RetryAttempts': 0}, 'contentType': 'application/json', 'body': <botocore.response.StreamingBody object at 0x0000023BD43CE650>}\n"
     ]
    }
   ],
   "source": [
    "# running API\n",
    "out = prompt_model(S)"
   ]
  },
  {
   "cell_type": "code",
   "execution_count": 481,
   "id": "96d1b82b-9f5c-4259-808d-43a5d9f7f0be",
   "metadata": {},
   "outputs": [
    {
     "name": "stdout",
     "output_type": "stream",
     "text": [
      "{'generation': 'Other.\\nCategory:Other', 'prompt_token_count': 357, 'generation_token_count': 5, 'stop_reason': 'length'}\n"
     ]
    }
   ],
   "source": [
    "# Printing the response\n",
    "body_content = out.read().decode('utf-8')\n",
    "\n",
    "# Parse the JSON content\n",
    "parsed_body = json.loads(body_content)\n",
    "\n",
    "# Print the parsed body\n",
    "print(parsed_body)"
   ]
  },
  {
   "cell_type": "code",
   "execution_count": 343,
   "id": "9f031974-358a-4eac-a8d5-6f82b634a557",
   "metadata": {},
   "outputs": [
    {
     "data": {
      "text/plain": [
       "{'prompt': 'You are an expert at receipt categorizationand analysis. I am sending you a receipt to categorize. The categories you can choose are one of the following six: Meals, Supplies, Safety, Travel, Lodging, Other.  Choose only one and format it like \"Category: <your response here> \". Keep the response short and concise. Do not provide an explanation or analysis of the steps. Only return one category and then end.\\nHere is the receipt\\nReceipt:',\n",
       " 'ADDRESS': 'Christopher S, Nevares\\n17035 W VALLEY HWY\\nSEATTLE, WA 98188-5519\\nUnited States',\n",
       " 'STREET': '17035 W VALLEY HWY',\n",
       " 'CITY': 'SEATTLE,',\n",
       " 'STATE': 'WA',\n",
       " 'ZIP_CODE': '98188-5519',\n",
       " 'COUNTRY': 'United States',\n",
       " 'NAME': 'Christopher S, Nevares',\n",
       " 'ADDRESS_BLOCK': '17035 W VALLEY HWY\\nSEATTLE, WA 98188-5519\\nUnited States',\n",
       " 'INVOICE_RECEIPT_DATE': '8/13/24.',\n",
       " 'INVOICE_RECEIPT_ID': '112-9546U10-U268240',\n",
       " 'ORDER_DATE': 'August 13, 2024',\n",
       " 'RECEIVER_ADDRESS': 'Christopher S, Nevares\\n17035 W VALLEY HWY\\nSEATTLE, WA 98188-5519\\nUnited States',\n",
       " 'RECEIVER_NAME': 'Christopher S Nevares',\n",
       " 'SHIPPING_HANDLING_CHARGE': '$0.00',\n",
       " 'SUBTOTAL': '$149.99',\n",
       " 'TAX': '$15.30',\n",
       " 'TOTAL': '$165.29',\n",
       " 'VENDOR_NAME': 'Amazon.com Inc.',\n",
       " 'OTHER': 'Amazon.com\\nServices, Inc',\n",
       " 'items': {'item0': \"1 of: Elgato Wave: 3 Premium Studio\\nFree Mixer Quality USB Condenser Microphone for Streaming, Podcast, Gaming and Home Office,\\nSold by: Amazon.com Software, Sound Effect Plugins, Anti-Distortion, Plug 'n Play, for Mac, PC\\nServices, Inc\\nSupplied by: Other\",\n",
       "  'item1': '$149.99',\n",
       "  'item2': \"1 Free of: Mixer Elgato Wave: 3 Premium Studio Quality USB Condenser Microphone for Streaming, Podcast, Gaming and Home Office, $149.99\\nSold by: Amazon.com Software, Sound Effect Plugins, Anti-Distortion, Plug 'n Play, for Mac, PC\\nServices, Inc\\nSupplied by: Other\"}}"
      ]
     },
     "execution_count": 343,
     "metadata": {},
     "output_type": "execute_result"
    }
   ],
   "source": [
    "D"
   ]
  },
  {
   "cell_type": "code",
   "execution_count": 202,
   "id": "b21d632e-33d1-40ef-8f4e-33a05d6560ee",
   "metadata": {},
   "outputs": [],
   "source": [
    "# Analyze a local file\n",
    "\n",
    "def analyze_receipt_local(file_name): \n",
    "    client = boto3.client('textract')\n",
    "    \n",
    "\n",
    "    try:\n",
    "        with open(file_name, \"rb\") as document:\n",
    "            response = client.analyze_expense(\n",
    "                Document={\n",
    "                    'Bytes': document.read()\n",
    "                }\n",
    "        )\n",
    "        s = response\n",
    "        print(\"Success!\")\n",
    "        return s\n",
    "        \n",
    "    except FileNotFoundError:\n",
    "        print(f\"The file {file_name} was not found.\")\n",
    "    except NoCredentialsError:\n",
    "        print(\"AWS credentials not available.\")"
   ]
  },
  {
   "cell_type": "code",
   "execution_count": null,
   "id": "5b120cae-c919-43c1-99b7-2388a92518bd",
   "metadata": {},
   "outputs": [],
   "source": [
    "file_name = 'data/Supplies1.jpg'\n",
    "analyze_receipt_local(\"data/Supplies1.jpg\")"
   ]
  },
  {
   "cell_type": "code",
   "execution_count": 144,
   "id": "9e72d25f-d8ae-4f1d-b320-5cea5623934c",
   "metadata": {},
   "outputs": [
    {
     "name": "stdout",
     "output_type": "stream",
     "text": [
      "{'generation': 'PAYMENT_METHOD:Credit Card\\nPAYMENT_STATUS:Paid\\nPAYMENT_DATE:August 13, 2024\\nPAYMENT_AMOUNT:$165.29\\nPAYMENT_TYPE:Credit Card\\nPAYMENT_METHOD:Credit Card\\nPAYMENT_STATUS:Paid\\nPAYMENT_DATE:August 13, 2024\\nPAYMENT_AMOUNT:$165.29\\nPAYMENT_TYPE:Credit Card\\nPAYMENT_METHOD:Credit Card\\nPAYMENT_STATUS:Paid\\nPAYMENT_DATE:August 13, 2024\\nPAYMENT_AMOUNT:$165.29\\nPAYMENT_TYPE:Credit Card\\nPAYMENT_METHOD:Credit Card\\nPAYMENT_STATUS:Paid\\nPAYMENT_DATE:August 13, 2024\\nPAYMENT_AMOUNT:$165.29\\nPAYMENT_TYPE:Credit Card\\nPAYMENT_METHOD:Credit Card\\nPAYMENT_STATUS:Paid\\nPAYMENT_DATE:August 13, 2024\\nPAYMENT_AMOUNT:$165.29\\nPAYMENT_TYPE:Credit Card\\nPAYMENT_METHOD:Credit Card\\nPAYMENT_STATUS:Paid\\nPAYMENT_DATE:August 13, 2024\\nPAYMENT_AMOUNT:$165.29\\nPAYMENT_TYPE:Credit Card\\nPAYMENT_METHOD:Credit Card\\nPAYMENT_STATUS:Paid\\nPAYMENT_DATE:August 13, 2024\\nPAYMENT_AMOUNT:$165.29\\nPAYMENT_TYPE:Credit Card\\nPAYMENT_METHOD:Credit Card\\nPAYMENT_STATUS:Paid\\nPAYMENT_DATE:August 13, 2024\\nPAYMENT_AMOUNT:$165.29\\nPAYMENT_TYPE:Credit Card\\nPAYMENT_METHOD:Credit Card\\nPAYMENT_STATUS:Paid\\nPAYMENT_DATE:August 13, 2024\\nPAYMENT_AMOUNT:$165.29\\nPAYMENT_TYPE:Credit Card\\nPAYMENT_METHOD:Credit Card\\nPAYMENT_STATUS:Paid\\nPAYMENT_DATE:August 13, 2024\\nPAYMENT_AMOUNT:$165.29\\nPAYMENT_TYPE:Credit Card\\nPAYMENT_METHOD:Credit Card\\nPAYMENT_STATUS:Paid\\nPAYMENT_DATE:August 13, 2024\\nPAYMENT_AMOUNT:$165.29\\nPAYMENT_TYPE:Credit Card\\nPAYMENT_METHOD:Credit Card\\nPAYMENT_STATUS:Paid\\nPAYMENT_DATE:August 13, 2024\\nPAYMENT_AMOUNT:$165.29\\nPAYMENT_TYPE:Credit Card\\nPAYMENT_METHOD:Credit Card\\nPAYMENT_STATUS:Paid\\nPAYMENT_DATE:August 13, 2024\\nPAYMENT_AMOUNT:$165.29', 'prompt_token_count': 253, 'generation_token_count': 512, 'stop_reason': 'length'}\n"
     ]
    }
   ],
   "source": [
    "body_content = out.read().decode('utf-8')\n",
    "\n",
    "# Parse the JSON content\n",
    "parsed_body = json.loads(body_content)\n",
    "\n",
    "# Print the parsed body\n",
    "print(parsed_body)"
   ]
  },
  {
   "cell_type": "code",
   "execution_count": 146,
   "id": "8063995d-c4b6-4c0d-ad8e-0e9234b8f48f",
   "metadata": {},
   "outputs": [
    {
     "data": {
      "text/plain": [
       "{'generation': 'PAYMENT_METHOD:Credit Card\\nPAYMENT_STATUS:Paid\\nPAYMENT_DATE:August 13, 2024\\nPAYMENT_AMOUNT:$165.29\\nPAYMENT_TYPE:Credit Card\\nPAYMENT_METHOD:Credit Card\\nPAYMENT_STATUS:Paid\\nPAYMENT_DATE:August 13, 2024\\nPAYMENT_AMOUNT:$165.29\\nPAYMENT_TYPE:Credit Card\\nPAYMENT_METHOD:Credit Card\\nPAYMENT_STATUS:Paid\\nPAYMENT_DATE:August 13, 2024\\nPAYMENT_AMOUNT:$165.29\\nPAYMENT_TYPE:Credit Card\\nPAYMENT_METHOD:Credit Card\\nPAYMENT_STATUS:Paid\\nPAYMENT_DATE:August 13, 2024\\nPAYMENT_AMOUNT:$165.29\\nPAYMENT_TYPE:Credit Card\\nPAYMENT_METHOD:Credit Card\\nPAYMENT_STATUS:Paid\\nPAYMENT_DATE:August 13, 2024\\nPAYMENT_AMOUNT:$165.29\\nPAYMENT_TYPE:Credit Card\\nPAYMENT_METHOD:Credit Card\\nPAYMENT_STATUS:Paid\\nPAYMENT_DATE:August 13, 2024\\nPAYMENT_AMOUNT:$165.29\\nPAYMENT_TYPE:Credit Card\\nPAYMENT_METHOD:Credit Card\\nPAYMENT_STATUS:Paid\\nPAYMENT_DATE:August 13, 2024\\nPAYMENT_AMOUNT:$165.29\\nPAYMENT_TYPE:Credit Card\\nPAYMENT_METHOD:Credit Card\\nPAYMENT_STATUS:Paid\\nPAYMENT_DATE:August 13, 2024\\nPAYMENT_AMOUNT:$165.29\\nPAYMENT_TYPE:Credit Card\\nPAYMENT_METHOD:Credit Card\\nPAYMENT_STATUS:Paid\\nPAYMENT_DATE:August 13, 2024\\nPAYMENT_AMOUNT:$165.29\\nPAYMENT_TYPE:Credit Card\\nPAYMENT_METHOD:Credit Card\\nPAYMENT_STATUS:Paid\\nPAYMENT_DATE:August 13, 2024\\nPAYMENT_AMOUNT:$165.29\\nPAYMENT_TYPE:Credit Card\\nPAYMENT_METHOD:Credit Card\\nPAYMENT_STATUS:Paid\\nPAYMENT_DATE:August 13, 2024\\nPAYMENT_AMOUNT:$165.29\\nPAYMENT_TYPE:Credit Card\\nPAYMENT_METHOD:Credit Card\\nPAYMENT_STATUS:Paid\\nPAYMENT_DATE:August 13, 2024\\nPAYMENT_AMOUNT:$165.29\\nPAYMENT_TYPE:Credit Card\\nPAYMENT_METHOD:Credit Card\\nPAYMENT_STATUS:Paid\\nPAYMENT_DATE:August 13, 2024\\nPAYMENT_AMOUNT:$165.29',\n",
       " 'prompt_token_count': 253,\n",
       " 'generation_token_count': 512,\n",
       " 'stop_reason': 'length'}"
      ]
     },
     "execution_count": 146,
     "metadata": {},
     "output_type": "execute_result"
    }
   ],
   "source": [
    "parsed_body"
   ]
  },
  {
   "cell_type": "code",
   "execution_count": 108,
   "id": "66812882-b50a-4efc-88da-340f8d89297c",
   "metadata": {},
   "outputs": [
    {
     "data": {
      "text/plain": [
       "'prompt: Classify this receipt between these categories Meals, Supplies, Safety, Travel, Lodging, Other. \\nReceipt:ADDRESS:Christopher S, Nevares\\n17035 W VALLEY HWY\\nSEATTLE, WA 98188-5519\\nUnited States\\nSTREET:17035 W VALLEY HWY\\nCITY:SEATTLE,\\nSTATE:WA\\nZIP_CODE:98188-5519\\nCOUNTRY:United States\\nNAME:Christopher S, Nevares\\nADDRESS_BLOCK:17035 W VALLEY HWY\\nSEATTLE, WA 98188-5519\\nUnited States\\nINVOICE_RECEIPT_DATE:8/13/24.\\nINVOICE_RECEIPT_ID:112-9546U10-U268240\\nORDER_DATE:August 13, 2024\\nRECEIVER_ADDRESS:Christopher S, Nevares\\n17035 W VALLEY HWY\\nSEATTLE, WA 98188-5519\\nUnited States\\nRECEIVER_NAME:Christopher S Nevares\\nSHIPPING_HANDLING_CHARGE:$0.00\\nSUBTOTAL:$149.99\\nTAX:$15.30\\nTOTAL:$165.29\\nVENDOR_NAME:Amazon.com Inc.\\nOTHER:Amazon.com\\nServices, Inc\\nCategory:'"
      ]
     },
     "execution_count": 108,
     "metadata": {},
     "output_type": "execute_result"
    }
   ],
   "source": [
    "S"
   ]
  },
  {
   "cell_type": "code",
   "execution_count": 63,
   "id": "7899e2ee-ceb3-4370-b67c-f78be60bcdc0",
   "metadata": {},
   "outputs": [
    {
     "data": {
      "text/plain": [
       "str"
      ]
     },
     "execution_count": 63,
     "metadata": {},
     "output_type": "execute_result"
    }
   ],
   "source": [
    "type(S)"
   ]
  },
  {
   "cell_type": "code",
   "execution_count": 64,
   "id": "e05bbd4f-8f96-4f7a-8f99-b856781b6038",
   "metadata": {},
   "outputs": [],
   "source": [
    "S = {S}"
   ]
  },
  {
   "cell_type": "code",
   "execution_count": 71,
   "id": "8e755f87-ba02-438b-843b-0304763e2b3c",
   "metadata": {},
   "outputs": [
    {
     "data": {
      "text/plain": [
       "{'prompt:Classify this receipt between these categories Meals, Supplies, Safety, Travel, Lodging, Other\\nADDRESS:Christopher S, Nevares\\n17035 W VALLEY HWY\\nSEATTLE, WA 98188-5519\\nUnited States\\nSTREET:17035 W VALLEY HWY\\nCITY:SEATTLE,\\nSTATE:WA\\nZIP_CODE:98188-5519\\nCOUNTRY:United States\\nNAME:Christopher S, Nevares\\nADDRESS_BLOCK:17035 W VALLEY HWY\\nSEATTLE, WA 98188-5519\\nUnited States\\nINVOICE_RECEIPT_DATE:8/13/24.\\nINVOICE_RECEIPT_ID:112-9546U10-U268240\\nORDER_DATE:August 13, 2024\\nRECEIVER_ADDRESS:Christopher S, Nevares\\n17035 W VALLEY HWY\\nSEATTLE, WA 98188-5519\\nUnited States\\nRECEIVER_NAME:Christopher S Nevares\\nSHIPPING_HANDLING_CHARGE:$0.00\\nSUBTOTAL:$149.99\\nTAX:$15.30\\nTOTAL:$165.29\\nVENDOR_NAME:Amazon.com Inc.\\nOTHER:Amazon.com\\nServices, Inc\\n'}"
      ]
     },
     "execution_count": 71,
     "metadata": {},
     "output_type": "execute_result"
    }
   ],
   "source": [
    "S"
   ]
  },
  {
   "cell_type": "code",
   "execution_count": 78,
   "id": "8c0d5bba-01f6-4a9f-a3c3-85168c326b16",
   "metadata": {},
   "outputs": [
    {
     "data": {
      "text/plain": [
       "{'ResponseMetadata': {'RequestId': '081bc70a-0ffb-4f93-aa10-2dfc56679301',\n",
       "  'HTTPStatusCode': 200,\n",
       "  'HTTPHeaders': {'date': 'Wed, 25 Dec 2024 01:59:19 GMT',\n",
       "   'content-type': 'application/json',\n",
       "   'content-length': '2130',\n",
       "   'connection': 'keep-alive',\n",
       "   'x-amzn-requestid': '081bc70a-0ffb-4f93-aa10-2dfc56679301',\n",
       "   'x-amzn-bedrock-invocation-latency': '6157',\n",
       "   'x-amzn-bedrock-output-token-count': '512',\n",
       "   'x-amzn-bedrock-input-token-count': '255'},\n",
       "  'RetryAttempts': 0},\n",
       " 'contentType': 'application/json',\n",
       " 'body': <botocore.response.StreamingBody at 0x23bd3a20880>}"
      ]
     },
     "execution_count": 78,
     "metadata": {},
     "output_type": "execute_result"
    }
   ],
   "source": [
    "out"
   ]
  },
  {
   "cell_type": "code",
   "execution_count": null,
   "id": "889050bb-e07d-4077-9b55-ab5ba358a53d",
   "metadata": {},
   "outputs": [],
   "source": []
  }
 ],
 "metadata": {
  "kernelspec": {
   "display_name": "Python 3 (ipykernel)",
   "language": "python",
   "name": "python3"
  },
  "language_info": {
   "codemirror_mode": {
    "name": "ipython",
    "version": 3
   },
   "file_extension": ".py",
   "mimetype": "text/x-python",
   "name": "python",
   "nbconvert_exporter": "python",
   "pygments_lexer": "ipython3",
   "version": "3.10.11"
  }
 },
 "nbformat": 4,
 "nbformat_minor": 5
}
